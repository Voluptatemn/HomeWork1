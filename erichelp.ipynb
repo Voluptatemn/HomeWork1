{
 "cells": [
  {
   "cell_type": "code",
   "execution_count": 2,
   "metadata": {},
   "outputs": [],
   "source": [
    "from bs4 import BeautifulSoup\n",
    "import requests\n",
    "\n",
    "\n"
   ]
  },
  {
   "cell_type": "code",
   "execution_count": 5,
   "metadata": {},
   "outputs": [
    {
     "data": {
      "text/plain": [
       "'1BRK.BBerkshire Hathaway Inc.758.22B345.76-0.25%351.43B '"
      ]
     },
     "metadata": {},
     "output_type": "display_data"
    },
    {
     "data": {
      "text/plain": [
       "'2TSMTaiwan Semiconductor Manufacturing Company Limited504.38B97.25-0.62%74.80B '"
      ]
     },
     "metadata": {},
     "output_type": "display_data"
    },
    {
     "data": {
      "text/plain": [
       "'3VVisa Inc.501.09B239.25-0.15%30.98B '"
      ]
     },
     "metadata": {},
     "output_type": "display_data"
    },
    {
     "data": {
      "text/plain": [
       "'4UNHUnitedHealth Group Incorporated471.60B506.530.45%345.23B '"
      ]
     },
     "metadata": {},
     "output_type": "display_data"
    },
    {
     "data": {
      "text/plain": [
       "'5JPMJPMorgan Chase & Co.450.30B154.95-0.77%146.92B '"
      ]
     },
     "metadata": {},
     "output_type": "display_data"
    },
    {
     "data": {
      "text/plain": [
       "'6JNJJohnson & Johnson442.28B170.191.07%97.77B '"
      ]
     },
     "metadata": {},
     "output_type": "display_data"
    },
    {
     "data": {
      "text/plain": [
       "'7LLYEli Lilly and Company438.60B462.04-0.38%27.69B '"
      ]
     },
     "metadata": {},
     "output_type": "display_data"
    },
    {
     "data": {
      "text/plain": [
       "'8WMTWalmart Inc.426.47B158.370.57%622.02B '"
      ]
     },
     "metadata": {},
     "output_type": "display_data"
    },
    {
     "data": {
      "text/plain": [
       "'9XOMExxon Mobil Corporation420.03B103.890.46%409.74B '"
      ]
     },
     "metadata": {},
     "output_type": "display_data"
    },
    {
     "data": {
      "text/plain": [
       "'10MAMastercard Incorporated373.71B397.49-0.14%22.82B '"
      ]
     },
     "metadata": {},
     "output_type": "display_data"
    },
    {
     "data": {
      "text/plain": [
       "'11NVONovo Nordisk A/S371.12B165.660.72%27.57B '"
      ]
     },
     "metadata": {},
     "output_type": "display_data"
    },
    {
     "data": {
      "text/plain": [
       "'12PGThe Procter & Gamble Company360.45B152.931.57%80.97B '"
      ]
     },
     "metadata": {},
     "output_type": "display_data"
    },
    {
     "data": {
      "text/plain": [
       "'13HDThe Home Depot, Inc.322.19B320.470.43%155.75B '"
      ]
     },
     "metadata": {},
     "output_type": "display_data"
    },
    {
     "data": {
      "text/plain": [
       "'14ORCLOracle Corporation319.33B117.651.53%49.95B '"
      ]
     },
     "metadata": {},
     "output_type": "display_data"
    },
    {
     "data": {
      "text/plain": [
       "'15CVXChevron Corporation296.66B158.691.46%242.67B '"
      ]
     },
     "metadata": {},
     "output_type": "display_data"
    },
    {
     "data": {
      "text/plain": [
       "'16MRKMerck & Co., Inc.280.11B110.391.78%57.87B '"
      ]
     },
     "metadata": {},
     "output_type": "display_data"
    },
    {
     "data": {
      "text/plain": [
       "'17KOThe Coca-Cola Company270.03B62.440.08%43.49B '"
      ]
     },
     "metadata": {},
     "output_type": "display_data"
    },
    {
     "data": {
      "text/plain": [
       "'18BACBank of America Corporation254.35B31.980.92%100.49B '"
      ]
     },
     "metadata": {},
     "output_type": "display_data"
    },
    {
     "data": {
      "text/plain": [
       "'19ABBVAbbVie Inc.253.60B143.741.09%56.74B '"
      ]
     },
     "metadata": {},
     "output_type": "display_data"
    },
    {
     "data": {
      "text/plain": [
       "'20BABAAlibaba Group Holding Limited236.19B92.170.29%126.45B '"
      ]
     },
     "metadata": {},
     "output_type": "display_data"
    },
    {
     "data": {
      "text/plain": [
       "'21NVSNovartis AG222.58B105.01-0.11%53.07B '"
      ]
     },
     "metadata": {},
     "output_type": "display_data"
    },
    {
     "data": {
      "text/plain": [
       "'22CRMSalesforce, Inc.222.13B228.06-0.04%32.19B '"
      ]
     },
     "metadata": {},
     "output_type": "display_data"
    },
    {
     "data": {
      "text/plain": [
       "'23TMToyota Motor Corporation220.58B162.81-0.29%280.62B '"
      ]
     },
     "metadata": {},
     "output_type": "display_data"
    },
    {
     "data": {
      "text/plain": [
       "'24TMOThermo Fisher Scientific Inc.216.85B562.194.44%43.81B '"
      ]
     },
     "metadata": {},
     "output_type": "display_data"
    },
    {
     "data": {
      "text/plain": [
       "\"25MCDMcDonald's Corporation215.82B295.61-0.51%23.41B \""
      ]
     },
     "metadata": {},
     "output_type": "display_data"
    },
    {
     "data": {
      "text/plain": [
       "'26SHELShell plc211.31B62.970.59%386.20B '"
      ]
     },
     "metadata": {},
     "output_type": "display_data"
    },
    {
     "data": {
      "text/plain": [
       "'27PFEPfizer Inc.211.13B37.401.71%92.95B '"
      ]
     },
     "metadata": {},
     "output_type": "display_data"
    },
    {
     "data": {
      "text/plain": [
       "'28ABTAbbott Laboratories198.74B114.292.20%40.23B '"
      ]
     },
     "metadata": {},
     "output_type": "display_data"
    },
    {
     "data": {
      "text/plain": [
       "'29ACNAccenture plc198.57B314.800.75%63.55B '"
      ]
     },
     "metadata": {},
     "output_type": "display_data"
    },
    {
     "data": {
      "text/plain": [
       "'30FMXFomento Económico Mexicano, SAB de CV194.37B108.640.57%34.56B '"
      ]
     },
     "metadata": {},
     "output_type": "display_data"
    },
    {
     "data": {
      "text/plain": [
       "'31DHRDanaher Corporation188.81B255.884.71%30.95B '"
      ]
     },
     "metadata": {},
     "output_type": "display_data"
    },
    {
     "data": {
      "text/plain": [
       "'32LINLinde plc188.27B384.540.77%33.35B '"
      ]
     },
     "metadata": {},
     "output_type": "display_data"
    },
    {
     "data": {
      "text/plain": [
       "'33HDBHDFC Bank Limited177.01B70.45-0.79%13.76B '"
      ]
     },
     "metadata": {},
     "output_type": "display_data"
    },
    {
     "data": {
      "text/plain": [
       "'34WFCWells Fargo & Company168.57B45.96-2.48%80.43B '"
      ]
     },
     "metadata": {},
     "output_type": "display_data"
    },
    {
     "data": {
      "text/plain": [
       "'35NKENIKE, Inc.167.62B109.061.42%51.22B '"
      ]
     },
     "metadata": {},
     "output_type": "display_data"
    },
    {
     "data": {
      "text/plain": [
       "'36SAPSAP SE165.38B134.020.07%34.75B '"
      ]
     },
     "metadata": {},
     "output_type": "display_data"
    },
    {
     "data": {
      "text/plain": [
       "'37HSBCHSBC Holdings plc163.58B41.37-0.07%61.60B '"
      ]
     },
     "metadata": {},
     "output_type": "display_data"
    },
    {
     "data": {
      "text/plain": [
       "'38UPSUnited Parcel Service, Inc.160.87B187.300.19%98.89B '"
      ]
     },
     "metadata": {},
     "output_type": "display_data"
    },
    {
     "data": {
      "text/plain": [
       "'39DISThe Walt Disney Company159.30B87.181.13%86.98B '"
      ]
     },
     "metadata": {},
     "output_type": "display_data"
    },
    {
     "data": {
      "text/plain": [
       "'40MSMorgan Stanley155.96B94.010.22%50.26B '"
      ]
     },
     "metadata": {},
     "output_type": "display_data"
    },
    {
     "data": {
      "text/plain": [
       "'41BHPBHP Group Limited153.71B60.74-0.21%60.28B '"
      ]
     },
     "metadata": {},
     "output_type": "display_data"
    },
    {
     "data": {
      "text/plain": [
       "'42NEENextEra Energy, Inc.153.58B75.902.43%24.78B '"
      ]
     },
     "metadata": {},
     "output_type": "display_data"
    },
    {
     "data": {
      "text/plain": [
       "'43PMPhilip Morris International Inc.151.37B97.52-0.67%33.17B '"
      ]
     },
     "metadata": {},
     "output_type": "display_data"
    },
    {
     "data": {
      "text/plain": [
       "'44TTETotalEnergies SE145.80B60.140.86%385.49B '"
      ]
     },
     "metadata": {},
     "output_type": "display_data"
    },
    {
     "data": {
      "text/plain": [
       "'45VZVerizon Communications Inc.142.43B33.880.71%136.19B '"
      ]
     },
     "metadata": {},
     "output_type": "display_data"
    },
    {
     "data": {
      "text/plain": [
       "'46RTXRaytheon Technologies Corporation140.84B96.39-0.79%68.57B '"
      ]
     },
     "metadata": {},
     "output_type": "display_data"
    },
    {
     "data": {
      "text/plain": [
       "'47RYRoyal Bank of Canada137.74B99.110.10%39.79B '"
      ]
     },
     "metadata": {},
     "output_type": "display_data"
    },
    {
     "data": {
      "text/plain": [
       "\"48LOWLowe's Companies, Inc.136.99B233.781.21%95.75B \""
      ]
     },
     "metadata": {},
     "output_type": "display_data"
    },
    {
     "data": {
      "text/plain": [
       "'49COPConocoPhillips136.60B112.891.07%78.38B '"
      ]
     },
     "metadata": {},
     "output_type": "display_data"
    },
    {
     "data": {
      "text/plain": [
       "'50BMYBristol-Myers Squibb Company135.88B64.681.43%45.85B '"
      ]
     },
     "metadata": {},
     "output_type": "display_data"
    },
    {
     "data": {
      "text/plain": [
       "'51SPGIS&P Global Inc.135.79B423.29-0.12%11.95B '"
      ]
     },
     "metadata": {},
     "output_type": "display_data"
    },
    {
     "data": {
      "text/plain": [
       "'52CATCaterpillar Inc.133.04B257.65-1.32%61.70B '"
      ]
     },
     "metadata": {},
     "output_type": "display_data"
    },
    {
     "data": {
      "text/plain": [
       "'53UNPUnion Pacific Corporation132.17B216.78-25.07B '"
      ]
     },
     "metadata": {},
     "output_type": "display_data"
    },
    {
     "data": {
      "text/plain": [
       "'54ULUnilever PLC131.82B52.380.36%63.91B '"
      ]
     },
     "metadata": {},
     "output_type": "display_data"
    },
    {
     "data": {
      "text/plain": [
       "'55BXBlackstone Inc.129.04B104.89-2.44%6.26B '"
      ]
     },
     "metadata": {},
     "output_type": "display_data"
    },
    {
     "data": {
      "text/plain": [
       "'56DEDeere & Company128.10B436.93-0.61%59.68B '"
      ]
     },
     "metadata": {},
     "output_type": "display_data"
    },
    {
     "data": {
      "text/plain": [
       "'57BAThe Boeing Company127.42B211.80-0.85%70.54B '"
      ]
     },
     "metadata": {},
     "output_type": "display_data"
    },
    {
     "data": {
      "text/plain": [
       "'58AXPAmerican Express Company126.51B170.22-3.89%52.14B '"
      ]
     },
     "metadata": {},
     "output_type": "display_data"
    },
    {
     "data": {
      "text/plain": [
       "'59IBMInternational Business Machines Corporation126.16B138.940.40%60.53B '"
      ]
     },
     "metadata": {},
     "output_type": "display_data"
    },
    {
     "data": {
      "text/plain": [
       "'60GEGeneral Electric Company120.29B110.33-0.82%74.00B '"
      ]
     },
     "metadata": {},
     "output_type": "display_data"
    },
    {
     "data": {
      "text/plain": [
       "'61TDThe Toronto-Dominion Bank120.05B65.260.21%38.12B '"
      ]
     },
     "metadata": {},
     "output_type": "display_data"
    },
    {
     "data": {
      "text/plain": [
       "'62NOWServiceNow, Inc.118.58B582.020.54%7.62B '"
      ]
     },
     "metadata": {},
     "output_type": "display_data"
    },
    {
     "data": {
      "text/plain": [
       "'63MDTMedtronic plc118.35B88.96-0.44%31.23B '"
      ]
     },
     "metadata": {},
     "output_type": "display_data"
    },
    {
     "data": {
      "text/plain": [
       "'64SCHWThe Charles Schwab Corporation117.61B66.48-2.15%20.77B '"
      ]
     },
     "metadata": {},
     "output_type": "display_data"
    },
    {
     "data": {
      "text/plain": [
       "'65GSThe Goldman Sachs Group, Inc.117.01B351.960.31%45.69B '"
      ]
     },
     "metadata": {},
     "output_type": "display_data"
    },
    {
     "data": {
      "text/plain": [
       "'66BUDAnheuser-Busch InBev SA/NV116.15B58.55-0.31%58.76B '"
      ]
     },
     "metadata": {},
     "output_type": "display_data"
    },
    {
     "data": {
      "text/plain": [
       "'67PLDPrologis, Inc.115.84B125.441.36%6.52B '"
      ]
     },
     "metadata": {},
     "output_type": "display_data"
    },
    {
     "data": {
      "text/plain": [
       "'68SONYSony Group Corporation115.24B93.390.15%87.16B '"
      ]
     },
     "metadata": {},
     "output_type": "display_data"
    },
    {
     "data": {
      "text/plain": [
       "'69LMTLockheed Martin Corporation114.52B454.76-0.27%67.39B '"
      ]
     },
     "metadata": {},
     "output_type": "display_data"
    },
    {
     "data": {
      "text/plain": [
       "'70ELVElevance Health Inc.112.82B475.930.04%165.71B '"
      ]
     },
     "metadata": {},
     "output_type": "display_data"
    },
    {
     "data": {
      "text/plain": [
       "'71BLKBlackRock, Inc.112.23B751.210.04%17.35B '"
      ]
     },
     "metadata": {},
     "output_type": "display_data"
    },
    {
     "data": {
      "text/plain": [
       "'72SYKStryker Corporation112.21B295.59-0.15%18.95B '"
      ]
     },
     "metadata": {},
     "output_type": "display_data"
    },
    {
     "data": {
      "text/plain": [
       "'73RIORio Tinto Group107.84B66.48-0.18%55.55B '"
      ]
     },
     "metadata": {},
     "output_type": "display_data"
    },
    {
     "data": {
      "text/plain": [
       "'74BPBP p.l.c.106.18B36.700.44%254.62B '"
      ]
     },
     "metadata": {},
     "output_type": "display_data"
    },
    {
     "data": {
      "text/plain": [
       "'75TAT&T Inc.105.52B14.760.68%121.17B '"
      ]
     },
     "metadata": {},
     "output_type": "display_data"
    },
    {
     "data": {
      "text/plain": [
       "'76DEODiageo plc99.87B177.720.95%18.84B '"
      ]
     },
     "metadata": {},
     "output_type": "display_data"
    },
    {
     "data": {
      "text/plain": [
       "'77TJXThe TJX Companies, Inc.98.35B85.580.18%50.31B '"
      ]
     },
     "metadata": {},
     "output_type": "display_data"
    },
    {
     "data": {
      "text/plain": [
       "'78CVSCVS Health Corporation96.22B75.050.24%330.92B '"
      ]
     },
     "metadata": {},
     "output_type": "display_data"
    },
    {
     "data": {
      "text/plain": [
       "'79EQNREquinor ASA96.04B30.870.68%150.81B '"
      ]
     },
     "metadata": {},
     "output_type": "display_data"
    },
    {
     "data": {
      "text/plain": [
       "'80UBERUber Technologies, Inc.95.59B47.231.42%33.85B '"
      ]
     },
     "metadata": {},
     "output_type": "display_data"
    },
    {
     "data": {
      "text/plain": [
       "'81MMCMarsh & McLennan Companies, Inc.94.70B191.431.18%21.59B '"
      ]
     },
     "metadata": {},
     "output_type": "display_data"
    },
    {
     "data": {
      "text/plain": [
       "'82PBRPetróleo Brasileiro S.A. - Petrobras90.85B13.932.43%124.47B '"
      ]
     },
     "metadata": {},
     "output_type": "display_data"
    },
    {
     "data": {
      "text/plain": [
       "'83MUFGMitsubishi UFJ Financial Group, Inc.90.66B7.54-2.08%25.33B '"
      ]
     },
     "metadata": {},
     "output_type": "display_data"
    },
    {
     "data": {
      "text/plain": [
       "'84CCitigroup Inc.90.60B47.05-0.76%76.34B '"
      ]
     },
     "metadata": {},
     "output_type": "display_data"
    },
    {
     "data": {
      "text/plain": [
       "'85CICigna Corporation86.92B293.77-0.15%183.03B '"
      ]
     },
     "metadata": {},
     "output_type": "display_data"
    },
    {
     "data": {
      "text/plain": [
       "'86AMTAmerican Tower Corporation86.17B184.890.13%10.82B '"
      ]
     },
     "metadata": {},
     "output_type": "display_data"
    },
    {
     "data": {
      "text/plain": [
       "'87IBNICICI Bank Limited85.60B24.47-0.04%20.67B '"
      ]
     },
     "metadata": {},
     "output_type": "display_data"
    },
    {
     "data": {
      "text/plain": [
       "'88PBR.APetróleo Brasileiro S.A. - Petrobras85.54B12.442.05%124.47B '"
      ]
     },
     "metadata": {},
     "output_type": "display_data"
    },
    {
     "data": {
      "text/plain": [
       "'89ZTSZoetis Inc.84.80B183.516.93%8.09B '"
      ]
     },
     "metadata": {},
     "output_type": "display_data"
    },
    {
     "data": {
      "text/plain": [
       "'90SHOPShopify Inc.83.86B65.570.20%5.90B '"
      ]
     },
     "metadata": {},
     "output_type": "display_data"
    },
    {
     "data": {
      "text/plain": [
       "'91ETNEaton Corporation plc82.77B207.69-1.53%21.39B '"
      ]
     },
     "metadata": {},
     "output_type": "display_data"
    },
    {
     "data": {
      "text/plain": [
       "'92CBChubb Limited82.75B199.810.21%44.55B '"
      ]
     },
     "metadata": {},
     "output_type": "display_data"
    },
    {
     "data": {
      "text/plain": [
       "'93MOAltria Group, Inc.81.40B45.60-0.13%24.92B '"
      ]
     },
     "metadata": {},
     "output_type": "display_data"
    },
    {
     "data": {
      "text/plain": [
       "'94SLBSchlumberger Limited79.83B56.01-2.18%29.86B '"
      ]
     },
     "metadata": {},
     "output_type": "display_data"
    },
    {
     "data": {
      "text/plain": [
       "'95SOThe Southern Company79.66B73.062.80%29.11B '"
      ]
     },
     "metadata": {},
     "output_type": "display_data"
    },
    {
     "data": {
      "text/plain": [
       "'96FIFiserv, Inc.79.34B128.53-0.66%18.15B '"
      ]
     },
     "metadata": {},
     "output_type": "display_data"
    },
    {
     "data": {
      "text/plain": [
       "'97CNICanadian National Railway Company78.53B118.550.76%12.83B '"
      ]
     },
     "metadata": {},
     "output_type": "display_data"
    },
    {
     "data": {
      "text/plain": [
       "'98HCAHCA Healthcare, Inc.78.44B285.14-0.62%60.88B '"
      ]
     },
     "metadata": {},
     "output_type": "display_data"
    },
    {
     "data": {
      "text/plain": [
       "'99ITWIllinois Tool Works Inc.77.67B255.570.02%16.01B '"
      ]
     },
     "metadata": {},
     "output_type": "display_data"
    },
    {
     "data": {
      "text/plain": [
       "'100BSXBoston Scientific Corporation76.43B53.16-0.56%13.05B '"
      ]
     },
     "metadata": {},
     "output_type": "display_data"
    },
    {
     "data": {
      "text/plain": [
       "'101BTIBritish American Tobacco p.l.c.76.28B34.11-0.32%33.32B '"
      ]
     },
     "metadata": {},
     "output_type": "display_data"
    },
    {
     "data": {
      "text/plain": [
       "'102CPCanadian Pacific Railway Limited75.82B81.431.13%6.70B '"
      ]
     },
     "metadata": {},
     "output_type": "display_data"
    },
    {
     "data": {
      "text/plain": [
       "'103ENBEnbridge Inc.75.72B37.400.35%36.44B '"
      ]
     },
     "metadata": {},
     "output_type": "display_data"
    },
    {
     "data": {
      "text/plain": [
       "'104BDXBecton, Dickinson and Company75.22B264.840.54%18.81B '"
      ]
     },
     "metadata": {},
     "output_type": "display_data"
    },
    {
     "data": {
      "text/plain": [
       "'105GSKGSK plc73.20B35.750.14%35.04B '"
      ]
     },
     "metadata": {},
     "output_type": "display_data"
    },
    {
     "data": {
      "text/plain": [
       "'106DUKDuke Energy Corporation73.04B94.781.70%28.91B '"
      ]
     },
     "metadata": {},
     "output_type": "display_data"
    },
    {
     "data": {
      "text/plain": [
       "'107EOGEOG Resources, Inc.72.88B124.610.91%27.76B '"
      ]
     },
     "metadata": {},
     "output_type": "display_data"
    },
    {
     "data": {
      "text/plain": [
       "'108PGRThe Progressive Corporation72.81B124.390.35%55.88B '"
      ]
     },
     "metadata": {},
     "output_type": "display_data"
    },
    {
     "data": {
      "text/plain": [
       "'109AMXAmérica Móvil, SAB de CV70.97B20.61-0.34%38.13B '"
      ]
     },
     "metadata": {},
     "output_type": "display_data"
    },
    {
     "data": {
      "text/plain": [
       "'110WMWaste Management, Inc.70.14B172.410.30%19.93B '"
      ]
     },
     "metadata": {},
     "output_type": "display_data"
    },
    {
     "data": {
      "text/plain": [
       "'111INFYInfosys Limited70.13B16.300.49%18.21B '"
      ]
     },
     "metadata": {},
     "output_type": "display_data"
    },
    {
     "data": {
      "text/plain": [
       "'112AONAon plc69.63B340.900.38%12.68B '"
      ]
     },
     "metadata": {},
     "output_type": "display_data"
    },
    {
     "data": {
      "text/plain": [
       "'113SHWThe Sherwin-Williams Company69.30B268.730.90%22.59B '"
      ]
     },
     "metadata": {},
     "output_type": "display_data"
    },
    {
     "data": {
      "text/plain": [
       "'114VMWVMware, Inc.69.02B160.38-2.07%13.54B '"
      ]
     },
     "metadata": {},
     "output_type": "display_data"
    },
    {
     "data": {
      "text/plain": [
       "'115NOCNorthrop Grumman Corporation68.86B453.42-0.21%37.11B '"
      ]
     },
     "metadata": {},
     "output_type": "display_data"
    },
    {
     "data": {
      "text/plain": [
       "'116UBSUBS Group AG68.77B21.290.24%37.16B '"
      ]
     },
     "metadata": {},
     "output_type": "display_data"
    },
    {
     "data": {
      "text/plain": [
       "'117KKRKKR & Co. Inc.68.01B60.49-0.82%7.84B '"
      ]
     },
     "metadata": {},
     "output_type": "display_data"
    },
    {
     "data": {
      "text/plain": [
       "'118APDAir Products and Chemicals, Inc.67.25B302.740.46%13.13B '"
      ]
     },
     "metadata": {},
     "output_type": "display_data"
    },
    {
     "data": {
      "text/plain": [
       "'119BMOBank of Montreal66.56B93.35-0.54%23.57B '"
      ]
     },
     "metadata": {},
     "output_type": "display_data"
    },
    {
     "data": {
      "text/plain": [
       "\"120MCOMoody's Corporation65.65B357.78-0.30%5.42B \""
      ]
     },
     "metadata": {},
     "output_type": "display_data"
    },
    {
     "data": {
      "text/plain": [
       "'121FDXFedEx Corporation65.23B259.67-1.47%90.16B '"
      ]
     },
     "metadata": {},
     "output_type": "display_data"
    },
    {
     "data": {
      "text/plain": [
       "'122ICEIntercontinental Exchange, Inc.65.07B116.220.51%9.65B '"
      ]
     },
     "metadata": {},
     "output_type": "display_data"
    },
    {
     "data": {
      "text/plain": [
       "'123CLColgate-Palmolive Company64.03B77.190.25%18.34B '"
      ]
     },
     "metadata": {},
     "output_type": "display_data"
    },
    {
     "data": {
      "text/plain": [
       "'124CNQCanadian Natural Resources Limited63.60B58.270.67%29.17B '"
      ]
     },
     "metadata": {},
     "output_type": "display_data"
    },
    {
     "data": {
      "text/plain": [
       "'125RELXRELX PLC63.40B33.480.97%10.30B '"
      ]
     },
     "metadata": {},
     "output_type": "display_data"
    },
    {
     "data": {
      "text/plain": [
       "'126SANBanco Santander, S.A.63.12B3.90-53.84B '"
      ]
     },
     "metadata": {},
     "output_type": "display_data"
    },
    {
     "data": {
      "text/plain": [
       "'127ELThe Estée Lauder Companies Inc.62.72B179.66-1.43%15.86B '"
      ]
     },
     "metadata": {},
     "output_type": "display_data"
    },
    {
     "data": {
      "text/plain": [
       "'128TGTTarget Corporation61.89B134.08-0.42%109.27B '"
      ]
     },
     "metadata": {},
     "output_type": "display_data"
    },
    {
     "data": {
      "text/plain": [
       "'129VALEVale S.A.61.56B14.191.00%43.84B '"
      ]
     },
     "metadata": {},
     "output_type": "display_data"
    },
    {
     "data": {
      "text/plain": [
       "'130BNSThe Bank of Nova Scotia60.95B50.87-0.27%23.38B '"
      ]
     },
     "metadata": {},
     "output_type": "display_data"
    },
    {
     "data": {
      "text/plain": [
       "'131SCCOSouthern Copper Corporation60.59B78.370.14%10.08B '"
      ]
     },
     "metadata": {},
     "output_type": "display_data"
    },
    {
     "data": {
      "text/plain": [
       "'132TRIThomson Reuters Corporation59.76B131.64-0.36%6.69B '"
      ]
     },
     "metadata": {},
     "output_type": "display_data"
    },
    {
     "data": {
      "text/plain": [
       "'133SMFGSumitomo Mitsui Financial Group, Inc.59.57B8.93-3.25%28.63B '"
      ]
     },
     "metadata": {},
     "output_type": "display_data"
    },
    {
     "data": {
      "text/plain": [
       "'134GDGeneral Dynamics Corporation59.11B215.47-0.28%39.90B '"
      ]
     },
     "metadata": {},
     "output_type": "display_data"
    },
    {
     "data": {
      "text/plain": [
       "'135ITUBItaú Unibanco Holding S.A.59.09B6.032.38%21.85B '"
      ]
     },
     "metadata": {},
     "output_type": "display_data"
    },
    {
     "data": {
      "text/plain": [
       "'136USBU.S. Bancorp58.89B38.42-1.84%22.19B '"
      ]
     },
     "metadata": {},
     "output_type": "display_data"
    },
    {
     "data": {
      "text/plain": [
       "'137EPDEnterprise Products Partners L.P.58.36B26.84-0.22%57.62B '"
      ]
     },
     "metadata": {},
     "output_type": "display_data"
    },
    {
     "data": {
      "text/plain": [
       "'138FCXFreeport-McMoRan Inc.58.21B40.61-3.06%21.89B '"
      ]
     },
     "metadata": {},
     "output_type": "display_data"
    },
    {
     "data": {
      "text/plain": [
       "'139CMGChipotle Mexican Grill, Inc.57.91B2,098.870.20%8.98B '"
      ]
     },
     "metadata": {},
     "output_type": "display_data"
    },
    {
     "data": {
      "text/plain": [
       "'140RACEFerrari N.V.57.60B318.01-0.20%5.80B '"
      ]
     },
     "metadata": {},
     "output_type": "display_data"
    },
    {
     "data": {
      "text/plain": [
       "'141MMM3M Company57.56B104.330.04%33.43B '"
      ]
     },
     "metadata": {},
     "output_type": "display_data"
    },
    {
     "data": {
      "text/plain": [
       "'142SNOWSnowflake Inc.57.33B175.90-0.24%2.27B '"
      ]
     },
     "metadata": {},
     "output_type": "display_data"
    },
    {
     "data": {
      "text/plain": [
       "'143STLAStellantis N.V.57.11B18.35-0.81%191.06B '"
      ]
     },
     "metadata": {},
     "output_type": "display_data"
    },
    {
     "data": {
      "text/plain": [
       "'144HUMHumana Inc.57.09B456.892.12%95.64B '"
      ]
     },
     "metadata": {},
     "output_type": "display_data"
    },
    {
     "data": {
      "text/plain": [
       "'145MCKMcKesson Corporation56.14B414.25-1.08%276.71B '"
      ]
     },
     "metadata": {},
     "output_type": "display_data"
    },
    {
     "data": {
      "text/plain": [
       "'146EWEdwards Lifesciences Corporation56.12B92.57-0.09%5.50B '"
      ]
     },
     "metadata": {},
     "output_type": "display_data"
    },
    {
     "data": {
      "text/plain": [
       "'147BNBrookfield Corporation55.60B35.480.37%94.18B '"
      ]
     },
     "metadata": {},
     "output_type": "display_data"
    },
    {
     "data": {
      "text/plain": [
       "'148FFord Motor Company54.74B13.93-0.71%165.06B '"
      ]
     },
     "metadata": {},
     "output_type": "display_data"
    },
    {
     "data": {
      "text/plain": [
       "'149OXYOccidental Petroleum Corporation54.16B60.740.46%35.82B '"
      ]
     },
     "metadata": {},
     "output_type": "display_data"
    },
    {
     "data": {
      "text/plain": [
       "'150MPCMarathon Petroleum Corporation54.10B125.821.26%176.65B '"
      ]
     },
     "metadata": {},
     "output_type": "display_data"
    },
    {
     "data": {
      "text/plain": [
       "'151ECLEcolab Inc.53.86B189.170.76%14.49B '"
      ]
     },
     "metadata": {},
     "output_type": "display_data"
    },
    {
     "data": {
      "text/plain": [
       "'152GMGeneral Motors Company53.59B38.55-1.81%160.74B '"
      ]
     },
     "metadata": {},
     "output_type": "display_data"
    },
    {
     "data": {
      "text/plain": [
       "'153PNCThe PNC Financial Services Group, Inc.53.44B134.260.20%22.23B '"
      ]
     },
     "metadata": {},
     "output_type": "display_data"
    },
    {
     "data": {
      "text/plain": [
       "'154NSCNorfolk Southern Corporation53.04B233.01-1.89%12.96B '"
      ]
     },
     "metadata": {},
     "output_type": "display_data"
    },
    {
     "data": {
      "text/plain": [
       "'155INGING Groep N.V.52.92B14.690.20%21.86B '"
      ]
     },
     "metadata": {},
     "output_type": "display_data"
    },
    {
     "data": {
      "text/plain": [
       "'156ANETArista Networks, Inc.52.59B171.640.13%4.86B '"
      ]
     },
     "metadata": {},
     "output_type": "display_data"
    },
    {
     "data": {
      "text/plain": [
       "'157EMREmerson Electric Co.52.14B91.23-0.72%17.49B '"
      ]
     },
     "metadata": {},
     "output_type": "display_data"
    },
    {
     "data": {
      "text/plain": [
       "'158HMCHonda Motor Co., Ltd.51.64B31.180.84%127.70B '"
      ]
     },
     "metadata": {},
     "output_type": "display_data"
    },
    {
     "data": {
      "text/plain": [
       "'159PSAPublic Storage51.29B291.730.93%4.30B '"
      ]
     },
     "metadata": {},
     "output_type": "display_data"
    },
    {
     "data": {
      "text/plain": [
       "'160PHParker-Hannifin Corporation51.02B397.65-1.28%18.16B '"
      ]
     },
     "metadata": {},
     "output_type": "display_data"
    },
    {
     "data": {
      "text/plain": [
       "'161NGGNational Grid plc50.60B68.71-0.25%26.10B '"
      ]
     },
     "metadata": {},
     "output_type": "display_data"
    },
    {
     "data": {
      "text/plain": [
       "'162PXDPioneer Natural Resources Company50.45B215.851.27%22.66B '"
      ]
     },
     "metadata": {},
     "output_type": "display_data"
    },
    {
     "data": {
      "text/plain": [
       "'163HSYThe Hershey Company50.41B246.640.42%10.74B '"
      ]
     },
     "metadata": {},
     "output_type": "display_data"
    },
    {
     "data": {
      "text/plain": [
       "'164EEni S.p.A.50.22B30.360.26%142.22B '"
      ]
     },
     "metadata": {},
     "output_type": "display_data"
    },
    {
     "data": {
      "text/plain": [
       "'165APHAmphenol Corporation49.78B83.62-0.83%12.65B '"
      ]
     },
     "metadata": {},
     "output_type": "display_data"
    },
    {
     "data": {
      "text/plain": [
       "'166ABEVAmbev S.A.49.76B3.162.27%15.07B '"
      ]
     },
     "metadata": {},
     "output_type": "display_data"
    },
    {
     "data": {
      "text/plain": [
       "'167MSIMotorola Solutions, Inc.49.68B296.190.23%9.39B '"
      ]
     },
     "metadata": {},
     "output_type": "display_data"
    },
    {
     "data": {
      "text/plain": [
       "'168STZConstellation Brands, Inc.49.38B269.500.11%9.60B '"
      ]
     },
     "metadata": {},
     "output_type": "display_data"
    },
    {
     "data": {
      "text/plain": [
       "'169RSGRepublic Services, Inc.49.01B154.950.28%14.12B '"
      ]
     },
     "metadata": {},
     "output_type": "display_data"
    },
    {
     "data": {
      "text/plain": [
       "'170TDGTransDigm Group Incorporated48.77B887.93-0.27%5.90B '"
      ]
     },
     "metadata": {},
     "output_type": "display_data"
    },
    {
     "data": {
      "text/plain": [
       "'171PSXPhillips 6648.52B105.731.61%174.07B '"
      ]
     },
     "metadata": {},
     "output_type": "display_data"
    },
    {
     "data": {
      "text/plain": [
       "'172TAKTakeda Pharmaceutical Company Limited48.38B15.561.37%30.42B '"
      ]
     },
     "metadata": {},
     "output_type": "display_data"
    },
    {
     "data": {
      "text/plain": [
       "'173STMSTMicroelectronics N.V.47.66B50.65-0.10%16.83B '"
      ]
     },
     "metadata": {},
     "output_type": "display_data"
    },
    {
     "data": {
      "text/plain": [
       "'174SRESempra47.53B151.070.98%17.18B '"
      ]
     },
     "metadata": {},
     "output_type": "display_data"
    },
    {
     "data": {
      "text/plain": [
       "'175JCIJohnson Controls International plc47.32B68.970.29%26.09B '"
      ]
     },
     "metadata": {},
     "output_type": "display_data"
    },
    {
     "data": {
      "text/plain": [
       "'176BBVABanco Bilbao Vizcaya Argentaria, S.A.47.19B7.91-1.37%32.41B '"
      ]
     },
     "metadata": {},
     "output_type": "display_data"
    },
    {
     "data": {
      "text/plain": [
       "'177WDSWoodside Energy Group Ltd46.96B24.731.02%16.82B '"
      ]
     },
     "metadata": {},
     "output_type": "display_data"
    },
    {
     "data": {
      "text/plain": [
       "'178METMetLife, Inc.46.87B61.200.43%69.53B '"
      ]
     },
     "metadata": {},
     "output_type": "display_data"
    },
    {
     "data": {
      "text/plain": [
       "'179AJGArthur J. Gallagher & Co.46.84B218.610.17%8.82B '"
      ]
     },
     "metadata": {},
     "output_type": "display_data"
    },
    {
     "data": {
      "text/plain": [
       "'180BSBRBanco Santander (Brasil) S.A.46.78B6.273.19%13.92B '"
      ]
     },
     "metadata": {},
     "output_type": "display_data"
    },
    {
     "data": {
      "text/plain": [
       "'181CCICrown Castle Inc.46.52B107.28-0.20%7.15B '"
      ]
     },
     "metadata": {},
     "output_type": "display_data"
    },
    {
     "data": {
      "text/plain": [
       "'182KMBKimberly-Clark Corporation46.27B137.151.69%20.28B '"
      ]
     },
     "metadata": {},
     "output_type": "display_data"
    },
    {
     "data": {
      "text/plain": [
       "'183SPGSimon Property Group, Inc.46.15B123.65-0.08%5.35B '"
      ]
     },
     "metadata": {},
     "output_type": "display_data"
    },
    {
     "data": {
      "text/plain": [
       "'184SQBlock, Inc.46.04B76.12-0.07%18.56B '"
      ]
     },
     "metadata": {},
     "output_type": "display_data"
    },
    {
     "data": {
      "text/plain": [
       "'185KVUEKenvue Inc.45.98B24.01-2.04%15.21B '"
      ]
     },
     "metadata": {},
     "output_type": "display_data"
    },
    {
     "data": {
      "text/plain": [
       "'186APOApollo Global Management, Inc.45.84B80.79-0.97%15.39B '"
      ]
     },
     "metadata": {},
     "output_type": "display_data"
    },
    {
     "data": {
      "text/plain": [
       "'187TFCTruist Financial Corporation45.44B33.05-0.03%19.71B '"
      ]
     },
     "metadata": {},
     "output_type": "display_data"
    },
    {
     "data": {
      "text/plain": [
       "'188GISGeneral Mills, Inc.45.06B77.000.84%20.09B '"
      ]
     },
     "metadata": {},
     "output_type": "display_data"
    },
    {
     "data": {
      "text/plain": [
       "'189DDominion Energy, Inc.44.96B53.781.26%18.15B '"
      ]
     },
     "metadata": {},
     "output_type": "display_data"
    },
    {
     "data": {
      "text/plain": [
       "'190CARRCarrier Global Corporation44.87B53.75-1.68%21.04B '"
      ]
     },
     "metadata": {},
     "output_type": "display_data"
    },
    {
     "data": {
      "text/plain": [
       "'191ADMArcher-Daniels-Midland Company44.74B82.14-0.59%101.98B '"
      ]
     },
     "metadata": {},
     "output_type": "display_data"
    },
    {
     "data": {
      "text/plain": [
       "'192AZOAutoZone, Inc.44.63B2,457.93-0.08%17.11B '"
      ]
     },
     "metadata": {},
     "output_type": "display_data"
    },
    {
     "data": {
      "text/plain": [
       "'193VLOValero Energy Corporation44.46B122.991.87%174.28B '"
      ]
     },
     "metadata": {},
     "output_type": "display_data"
    },
    {
     "data": {
      "text/plain": [
       "'194TELTE Connectivity Ltd.44.43B141.00-0.67%16.46B '"
      ]
     },
     "metadata": {},
     "output_type": "display_data"
    },
    {
     "data": {
      "text/plain": [
       "'195TTTrane Technologies plc44.22B193.89-0.88%16.30B '"
      ]
     },
     "metadata": {},
     "output_type": "display_data"
    },
    {
     "data": {
      "text/plain": [
       "'196COFCapital One Financial Corporation44.13B115.570.50%35.76B '"
      ]
     },
     "metadata": {},
     "output_type": "display_data"
    },
    {
     "data": {
      "text/plain": [
       "'197AFLAflac Incorporated43.75B72.410.03%19.03B '"
      ]
     },
     "metadata": {},
     "output_type": "display_data"
    },
    {
     "data": {
      "text/plain": [
       "'198HESHess Corporation43.66B142.201.33%11.65B '"
      ]
     },
     "metadata": {},
     "output_type": "display_data"
    },
    {
     "data": {
      "text/plain": [
       "'199DHID.R. Horton, Inc.43.51B127.581.72%34.60B '"
      ]
     },
     "metadata": {},
     "output_type": "display_data"
    },
    {
     "data": {
      "text/plain": [
       "'200AIGAmerican International Group, Inc.43.39B59.95-0.48%51.61B '"
      ]
     },
     "metadata": {},
     "output_type": "display_data"
    },
    {
     "data": {
      "text/plain": [
       "'201LVSLas Vegas Sands Corp.42.78B55.97-0.83%6.78B '"
      ]
     },
     "metadata": {},
     "output_type": "display_data"
    },
    {
     "data": {
      "text/plain": [
       "'202CRHCRH plc42.72B58.910.36%36.42B '"
      ]
     },
     "metadata": {},
     "output_type": "display_data"
    },
    {
     "data": {
      "text/plain": [
       "'203IQVIQVIA Holdings Inc.42.35B228.260.83%14.49B '"
      ]
     },
     "metadata": {},
     "output_type": "display_data"
    },
    {
     "data": {
      "text/plain": [
       "'204ORealty Income Corporation42.24B62.750.21%3.48B '"
      ]
     },
     "metadata": {},
     "output_type": "display_data"
    },
    {
     "data": {
      "text/plain": [
       "'205PCGPG&E Corporation42.13B17.961.30%22.09B '"
      ]
     },
     "metadata": {},
     "output_type": "display_data"
    },
    {
     "data": {
      "text/plain": [
       "'206ALCAlcon Inc.41.46B84.31-0.19%8.88B '"
      ]
     },
     "metadata": {},
     "output_type": "display_data"
    },
    {
     "data": {
      "text/plain": [
       "'207ETEnergy Transfer LP41.31B13.15-0.38%88.38B '"
      ]
     },
     "metadata": {},
     "output_type": "display_data"
    },
    {
     "data": {
      "text/plain": [
       "'208WMBThe Williams Companies, Inc.41.24B33.850.74%11.52B '"
      ]
     },
     "metadata": {},
     "output_type": "display_data"
    },
    {
     "data": {
      "text/plain": [
       "'209NUENucor Corporation41.16B163.83-1.32%39.73B '"
      ]
     },
     "metadata": {},
     "output_type": "display_data"
    },
    {
     "data": {
      "text/plain": [
       "'210TWTRTwitter, Inc.41.09B53.70-5.23B '"
      ]
     },
     "metadata": {},
     "output_type": "display_data"
    },
    {
     "data": {
      "text/plain": [
       "'211HLNHaleon plc41.05B8.891.60%13.08B '"
      ]
     },
     "metadata": {},
     "output_type": "display_data"
    },
    {
     "data": {
      "text/plain": [
       "'212MSCIMSCI Inc.40.95B511.420.35%2.28B '"
      ]
     },
     "metadata": {},
     "output_type": "display_data"
    },
    {
     "data": {
      "text/plain": [
       "'213WELLWelltower Inc.40.91B82.310.37%6.03B '"
      ]
     },
     "metadata": {},
     "output_type": "display_data"
    },
    {
     "data": {
      "text/plain": [
       "'214BCEBCE Inc.40.54B44.440.63%17.67B '"
      ]
     },
     "metadata": {},
     "output_type": "display_data"
    },
    {
     "data": {
      "text/plain": [
       "'215MFGMizuho Financial Group, Inc.40.36B3.18-1.85%15.13B '"
      ]
     },
     "metadata": {},
     "output_type": "display_data"
    },
    {
     "data": {
      "text/plain": [
       "'216CMCanadian Imperial Bank of Commerce40.21B43.81-0.36%16.86B '"
      ]
     },
     "metadata": {},
     "output_type": "display_data"
    },
    {
     "data": {
      "text/plain": [
       "'217HLTHilton Worldwide Holdings Inc.40.18B151.841.71%9.35B '"
      ]
     },
     "metadata": {},
     "output_type": "display_data"
    },
    {
     "data": {
      "text/plain": [
       "'218CTVACorteva, Inc.40.06B56.35-0.48%17.74B '"
      ]
     },
     "metadata": {},
     "output_type": "display_data"
    },
    {
     "data": {
      "text/plain": [
       "'219KMIKinder Morgan, Inc.40.01B17.800.91%17.15B '"
      ]
     },
     "metadata": {},
     "output_type": "display_data"
    },
    {
     "data": {
      "text/plain": [
       "'220TRVThe Travelers Companies, Inc.39.92B172.82-0.47%38.74B '"
      ]
     },
     "metadata": {},
     "output_type": "display_data"
    },
    {
     "data": {
      "text/plain": [
       "'221TRPTC Energy Corporation39.53B39.530.30%11.16B '"
      ]
     },
     "metadata": {},
     "output_type": "display_data"
    },
    {
     "data": {
      "text/plain": [
       "'222ABCAmerisourceBergen Corporation38.95B192.59-0.42%247.54B '"
      ]
     },
     "metadata": {},
     "output_type": "display_data"
    },
    {
     "data": {
      "text/plain": [
       "'223DELLDell Technologies Inc.38.95B53.56-0.07%97.11B '"
      ]
     },
     "metadata": {},
     "output_type": "display_data"
    },
    {
     "data": {
      "text/plain": [
       "'224CNCCentene Corporation38.76B70.630.64%146.25B '"
      ]
     },
     "metadata": {},
     "output_type": "display_data"
    },
    {
     "data": {
      "text/plain": [
       "'225ROKRockwell Automation, Inc.38.72B337.08-1.60%8.35B '"
      ]
     },
     "metadata": {},
     "output_type": "display_data"
    },
    {
     "data": {
      "text/plain": [
       "'226SUSuncor Energy Inc.38.61B29.481.24%41.57B '"
      ]
     },
     "metadata": {},
     "output_type": "display_data"
    },
    {
     "data": {
      "text/plain": [
       "'227GWWW.W. Grainger, Inc.38.58B769.000.24%15.67B '"
      ]
     },
     "metadata": {},
     "output_type": "display_data"
    },
    {
     "data": {
      "text/plain": [
       "'228YUMYum! Brands, Inc.38.52B137.541.22%6.94B '"
      ]
     },
     "metadata": {},
     "output_type": "display_data"
    },
    {
     "data": {
      "text/plain": [
       "'229SYYSysco Corporation38.17B75.20-0.21%75.55B '"
      ]
     },
     "metadata": {},
     "output_type": "display_data"
    },
    {
     "data": {
      "text/plain": [
       "'230BBDBanco Bradesco S.A.38.04B3.583.17%15.48B '"
      ]
     },
     "metadata": {},
     "output_type": "display_data"
    },
    {
     "data": {
      "text/plain": [
       "'231LHXL3Harris Technologies, Inc.37.88B199.970.03%17.43B '"
      ]
     },
     "metadata": {},
     "output_type": "display_data"
    },
    {
     "data": {
      "text/plain": [
       "'232AAgilent Technologies, Inc.37.70B127.622.46%7.04B '"
      ]
     },
     "metadata": {},
     "output_type": "display_data"
    },
    {
     "data": {
      "text/plain": [
       "'233DOWDow Inc.37.52B53.05-53.49B '"
      ]
     },
     "metadata": {},
     "output_type": "display_data"
    },
    {
     "data": {
      "text/plain": [
       "'234LYGLloyds Banking Group plc37.35B2.32-2.52%7.00B '"
      ]
     },
     "metadata": {},
     "output_type": "display_data"
    },
    {
     "data": {
      "text/plain": [
       "'235AMPAmeriprise Financial, Inc.37.26B353.87-0.85%14.36B '"
      ]
     },
     "metadata": {},
     "output_type": "display_data"
    },
    {
     "data": {
      "text/plain": [
       "'236WCNWaste Connections, Inc.37.25B144.640.62%7.47B '"
      ]
     },
     "metadata": {},
     "output_type": "display_data"
    },
    {
     "data": {
      "text/plain": [
       "'237NUNu Holdings Ltd.37.18B7.922.86%5.53B '"
      ]
     },
     "metadata": {},
     "output_type": "display_data"
    },
    {
     "data": {
      "text/plain": [
       "'238PUKPrudential plc37.07B26.93-2.64%-10.57B '"
      ]
     },
     "metadata": {},
     "output_type": "display_data"
    },
    {
     "data": {
      "text/plain": [
       "'239DGDollar General Corporation36.65B167.09-1.01%38.44B '"
      ]
     },
     "metadata": {},
     "output_type": "display_data"
    },
    {
     "data": {
      "text/plain": [
       "'240CMICummins Inc.36.62B258.75-0.47%30.14B '"
      ]
     },
     "metadata": {},
     "output_type": "display_data"
    },
    {
     "data": {
      "text/plain": [
       "'241FISFidelity National Information Services, Inc.36.47B61.560.62%14.55B '"
      ]
     },
     "metadata": {},
     "output_type": "display_data"
    },
    {
     "data": {
      "text/plain": [
       "'242AMEAMETEK, Inc.36.31B157.53-0.35%6.29B '"
      ]
     },
     "metadata": {},
     "output_type": "display_data"
    },
    {
     "data": {
      "text/plain": [
       "'243OTISOtis Worldwide Corporation36.06B87.250.45%13.62B '"
      ]
     },
     "metadata": {},
     "output_type": "display_data"
    },
    {
     "data": {
      "text/plain": [
       "'244LENLennar Corporation35.97B126.650.40%33.64B '"
      ]
     },
     "metadata": {},
     "output_type": "display_data"
    },
    {
     "data": {
      "text/plain": [
       "'245MFCManulife Financial Corporation35.93B19.530.41%21.16B '"
      ]
     },
     "metadata": {},
     "output_type": "display_data"
    },
    {
     "data": {
      "text/plain": [
       "'246BKThe Bank of New York Mellon Corporation35.51B45.00-1.38%16.66B '"
      ]
     },
     "metadata": {},
     "output_type": "display_data"
    },
    {
     "data": {
      "text/plain": [
       "'247PPGPPG Industries, Inc.35.15B149.35-0.25%17.91B '"
      ]
     },
     "metadata": {},
     "output_type": "display_data"
    },
    {
     "data": {
      "text/plain": [
       "'248QSRRestaurant Brands International Inc.35.14B77.670.28%6.64B '"
      ]
     },
     "metadata": {},
     "output_type": "display_data"
    },
    {
     "data": {
      "text/plain": [
       "'249DLRDigital Realty Trust, Inc.35.01B120.151.17%4.90B '"
      ]
     },
     "metadata": {},
     "output_type": "display_data"
    },
    {
     "data": {
      "text/plain": [
       "'250MPLXMPLX LP34.96B34.920.49%11.72B '"
      ]
     },
     "metadata": {},
     "output_type": "display_data"
    },
    {
     "data": {
      "text/plain": [
       "'251PLTRPalantir Technologies Inc.34.81B16.43-4.09%1.98B '"
      ]
     },
     "metadata": {},
     "output_type": "display_data"
    },
    {
     "data": {
      "text/plain": [
       "'252SESea Limited34.80B61.181.70%12.59B '"
      ]
     },
     "metadata": {},
     "output_type": "display_data"
    },
    {
     "data": {
      "text/plain": [
       "'253PRUPrudential Financial, Inc.34.59B94.77-0.26%63.88B '"
      ]
     },
     "metadata": {},
     "output_type": "display_data"
    },
    {
     "data": {
      "text/plain": [
       "'254DDDuPont de Nemours, Inc.34.49B75.13-0.38%12.76B '"
      ]
     },
     "metadata": {},
     "output_type": "display_data"
    },
    {
     "data": {
      "text/plain": [
       "'255KRThe Kroger Co.34.44B47.990.27%148.82B '"
      ]
     },
     "metadata": {},
     "output_type": "display_data"
    },
    {
     "data": {
      "text/plain": [
       "'256NEMNewmont Corporation34.34B43.211.79%11.20B '"
      ]
     },
     "metadata": {},
     "output_type": "display_data"
    },
    {
     "data": {
      "text/plain": [
       "'257EDConsolidated Edison, Inc.33.66B97.131.29%16.01B '"
      ]
     },
     "metadata": {},
     "output_type": "display_data"
    },
    {
     "data": {
      "text/plain": [
       "'258DVNDevon Energy Corporation33.54B52.261.67%19.18B '"
      ]
     },
     "metadata": {},
     "output_type": "display_data"
    },
    {
     "data": {
      "text/plain": [
       "'259BF.ABrown-Forman Corporation33.51B70.19-0.04%4.23B '"
      ]
     },
     "metadata": {},
     "output_type": "display_data"
    },
    {
     "data": {
      "text/plain": [
       "'260HALHalliburton Company33.33B36.941.34%22.41B '"
      ]
     },
     "metadata": {},
     "output_type": "display_data"
    },
    {
     "data": {
      "text/plain": [
       "'261SPOTSpotify Technology S.A.33.21B171.71-0.45%13.16B '"
      ]
     },
     "metadata": {},
     "output_type": "display_data"
    },
    {
     "data": {
      "text/plain": [
       "'262VEEVVeeva Systems Inc.33.17B199.710.42%2.18B '"
      ]
     },
     "metadata": {},
     "output_type": "display_data"
    },
    {
     "data": {
      "text/plain": [
       "'263CVECenovus Energy Inc.33.09B17.421.75%45.62B '"
      ]
     },
     "metadata": {},
     "output_type": "display_data"
    },
    {
     "data": {
      "text/plain": [
       "'264VICIVICI Properties Inc.32.93B32.790.24%3.06B '"
      ]
     },
     "metadata": {},
     "output_type": "display_data"
    },
    {
     "data": {
      "text/plain": [
       "'265BCSBarclays PLC32.82B8.44-0.94%31.13B '"
      ]
     },
     "metadata": {},
     "output_type": "display_data"
    },
    {
     "data": {
      "text/plain": [
       "'266DASHDoorDash, Inc.32.73B84.501.03%7.16B '"
      ]
     },
     "metadata": {},
     "output_type": "display_data"
    },
    {
     "data": {
      "text/plain": [
       "'267PEGPublic Service Enterprise Group Incorporated32.50B65.131.04%11.24B '"
      ]
     },
     "metadata": {},
     "output_type": "display_data"
    },
    {
     "data": {
      "text/plain": [
       "'268RMDResMed Inc.32.32B219.940.30%4.02B '"
      ]
     },
     "metadata": {},
     "output_type": "display_data"
    },
    {
     "data": {
      "text/plain": [
       "'269DALDelta Air Lines, Inc.32.29B48.55-0.29%55.75B '"
      ]
     },
     "metadata": {},
     "output_type": "display_data"
    },
    {
     "data": {
      "text/plain": [
       "'270FERGFerguson plc32.27B157.900.40%29.87B '"
      ]
     },
     "metadata": {},
     "output_type": "display_data"
    },
    {
     "data": {
      "text/plain": [
       "'271PKXPOSCO Holdings Inc.32.08B105.699.10%64.03B '"
      ]
     },
     "metadata": {},
     "output_type": "display_data"
    },
    {
     "data": {
      "text/plain": [
       "'272EXRExtra Space Storage Inc.31.91B146.07-0.51%1.98B '"
      ]
     },
     "metadata": {},
     "output_type": "display_data"
    },
    {
     "data": {
      "text/plain": [
       "'273ORANOrange S.A.31.88B11.99-0.08%46.25B '"
      ]
     },
     "metadata": {},
     "output_type": "display_data"
    },
    {
     "data": {
      "text/plain": [
       "'274NTRNutrien Ltd.31.88B64.26-0.06%36.33B '"
      ]
     },
     "metadata": {},
     "output_type": "display_data"
    },
    {
     "data": {
      "text/plain": [
       "'275HPQHP Inc.31.79B32.24-0.98%56.21B '"
      ]
     },
     "metadata": {},
     "output_type": "display_data"
    },
    {
     "data": {
      "text/plain": [
       "'276URIUnited Rentals, Inc.30.96B450.43-1.81%12.40B '"
      ]
     },
     "metadata": {},
     "output_type": "display_data"
    },
    {
     "data": {
      "text/plain": [
       "'277SLFSun Life Financial Inc.30.86B52.580.42%22.06B '"
      ]
     },
     "metadata": {},
     "output_type": "display_data"
    },
    {
     "data": {
      "text/plain": [
       "'278ARESAres Management Corporation30.71B101.54-0.63%3.15B '"
      ]
     },
     "metadata": {},
     "output_type": "display_data"
    },
    {
     "data": {
      "text/plain": [
       "'279GOLDBarrick Gold Corporation30.54B17.400.69%10.80B '"
      ]
     },
     "metadata": {},
     "output_type": "display_data"
    },
    {
     "data": {
      "text/plain": [
       "'280CPNGCoupang, Inc.30.40B17.090.06%21.27B '"
      ]
     },
     "metadata": {},
     "output_type": "display_data"
    },
    {
     "data": {
      "text/plain": [
       "'281KEYSKeysight Technologies, Inc.30.02B168.320.55%5.59B '"
      ]
     },
     "metadata": {},
     "output_type": "display_data"
    },
    {
     "data": {
      "text/plain": [
       "'282MTDMettler-Toledo International Inc.29.99B1,361.860.89%3.95B '"
      ]
     },
     "metadata": {},
     "output_type": "display_data"
    },
    {
     "data": {
      "text/plain": [
       "'283LYBLyondellBasell Industries N.V.29.85B91.770.68%47.54B '"
      ]
     },
     "metadata": {},
     "output_type": "display_data"
    },
    {
     "data": {
      "text/plain": [
       "'284OKEONEOK, Inc.29.75B66.490.85%21.46B '"
      ]
     },
     "metadata": {},
     "output_type": "display_data"
    },
    {
     "data": {
      "text/plain": [
       "'285ZBHZimmer Biomet Holdings, Inc.29.70B142.23-0.35%7.11B '"
      ]
     },
     "metadata": {},
     "output_type": "display_data"
    },
    {
     "data": {
      "text/plain": [
       "'286VMCVulcan Materials Company29.58B222.300.30%7.42B '"
      ]
     },
     "metadata": {},
     "output_type": "display_data"
    },
    {
     "data": {
      "text/plain": [
       "'287APTVAptiv PLC29.55B109.240.57%18.13B '"
      ]
     },
     "metadata": {},
     "output_type": "display_data"
    },
    {
     "data": {
      "text/plain": [
       "'288PWRQuanta Services, Inc.29.25B201.490.76%17.54B '"
      ]
     },
     "metadata": {},
     "output_type": "display_data"
    },
    {
     "data": {
      "text/plain": [
       "'289WECWEC Energy Group, Inc.29.14B92.371.22%9.58B '"
      ]
     },
     "metadata": {},
     "output_type": "display_data"
    },
    {
     "data": {
      "text/plain": [
       "'290ALLThe Allstate Corporation29.13B110.82-1.04%52.86B '"
      ]
     },
     "metadata": {},
     "output_type": "display_data"
    },
    {
     "data": {
      "text/plain": [
       "'291NWGNatWest Group plc29.11B6.51-2.25%14.02B '"
      ]
     },
     "metadata": {},
     "output_type": "display_data"
    },
    {
     "data": {
      "text/plain": [
       "'292AWKAmerican Water Works Company, Inc.28.97B148.821.28%3.89B '"
      ]
     },
     "metadata": {},
     "output_type": "display_data"
    },
    {
     "data": {
      "text/plain": [
       "'293GPNGlobal Payments Inc.28.94B110.49-1.42%9.11B '"
      ]
     },
     "metadata": {},
     "output_type": "display_data"
    },
    {
     "data": {
      "text/plain": [
       "'294CHTChunghwa Telecom Co., Ltd.28.56B36.810.27%7.20B '"
      ]
     },
     "metadata": {},
     "output_type": "display_data"
    },
    {
     "data": {
      "text/plain": [
       "'295MLMMartin Marietta Materials, Inc.28.37B457.89-0.04%6.28B '"
      ]
     },
     "metadata": {},
     "output_type": "display_data"
    },
    {
     "data": {
      "text/plain": [
       "'296GLWCorning Incorporated28.24B33.220.09%13.69B '"
      ]
     },
     "metadata": {},
     "output_type": "display_data"
    },
    {
     "data": {
      "text/plain": [
       "'297ITGartner, Inc.28.13B355.85-0.45%5.62B '"
      ]
     },
     "metadata": {},
     "output_type": "display_data"
    },
    {
     "data": {
      "text/plain": [
       "'298FNVFranco-Nevada Corporation28.11B146.43-0.26%1.25B '"
      ]
     },
     "metadata": {},
     "output_type": "display_data"
    },
    {
     "data": {
      "text/plain": [
       "'299AVBAvalonBay Communities, Inc.28.03B197.370.29%2.65B '"
      ]
     },
     "metadata": {},
     "output_type": "display_data"
    },
    {
     "data": {
      "text/plain": [
       "'300WSTWest Pharmaceutical Services, Inc.28.01B377.32-0.38%2.88B '"
      ]
     },
     "metadata": {},
     "output_type": "display_data"
    },
    {
     "data": {
      "text/plain": [
       "'301EIXEdison International27.73B72.400.35%17.22B '"
      ]
     },
     "metadata": {},
     "output_type": "display_data"
    },
    {
     "data": {
      "text/plain": [
       "'302CBRECBRE Group, Inc.27.27B87.72-0.26%30.91B '"
      ]
     },
     "metadata": {},
     "output_type": "display_data"
    },
    {
     "data": {
      "text/plain": [
       "'303XYLXylem Inc.27.24B113.770.19%5.70B '"
      ]
     },
     "metadata": {},
     "output_type": "display_data"
    },
    {
     "data": {
      "text/plain": [
       "'304TUTELUS Corporation27.15B18.761.46%13.84B '"
      ]
     },
     "metadata": {},
     "output_type": "display_data"
    },
    {
     "data": {
      "text/plain": [
       "'305HUBSHubSpot, Inc.27.02B544.310.78%1.84B '"
      ]
     },
     "metadata": {},
     "output_type": "display_data"
    },
    {
     "data": {
      "text/plain": [
       "'306DFSDiscover Financial Services26.69B105.112.60%14.84B '"
      ]
     },
     "metadata": {},
     "output_type": "display_data"
    },
    {
     "data": {
      "text/plain": [
       "'307IRIngersoll Rand Inc.26.40B65.26-0.50%6.21B '"
      ]
     },
     "metadata": {},
     "output_type": "display_data"
    },
    {
     "data": {
      "text/plain": [
       "'308RCLRoyal Caribbean Cruises Ltd.26.18B102.381.26%10.67B '"
      ]
     },
     "metadata": {},
     "output_type": "display_data"
    },
    {
     "data": {
      "text/plain": [
       "'309EQREquity Residential26.17B69.060.71%2.79B '"
      ]
     },
     "metadata": {},
     "output_type": "display_data"
    },
    {
     "data": {
      "text/plain": [
       "'310FTVFortive Corporation26.12B74.27-0.09%5.91B '"
      ]
     },
     "metadata": {},
     "output_type": "display_data"
    },
    {
     "data": {
      "text/plain": [
       "'311EFXEquifax Inc.26.04B212.35-1.86%5.06B '"
      ]
     },
     "metadata": {},
     "output_type": "display_data"
    },
    {
     "data": {
      "text/plain": [
       "'312ESEversource Energy25.92B74.311.05%12.61B '"
      ]
     },
     "metadata": {},
     "output_type": "display_data"
    },
    {
     "data": {
      "text/plain": [
       "'313WITWipro Limited25.79B4.950.81%11.16B '"
      ]
     },
     "metadata": {},
     "output_type": "display_data"
    },
    {
     "data": {
      "text/plain": [
       "'314AEMAgnico Eagle Mines Limited25.75B52.090.33%5.93B '"
      ]
     },
     "metadata": {},
     "output_type": "display_data"
    },
    {
     "data": {
      "text/plain": [
       "'315TLKPerusahaan Perseroan (Persero) PT Telekomunikasi Indonesia Tbk25.41B25.650.08%9.48B '"
      ]
     },
     "metadata": {},
     "output_type": "display_data"
    },
    {
     "data": {
      "text/plain": [
       "'316ALBAlbemarle Corporation25.34B215.99-3.19%8.77B '"
      ]
     },
     "metadata": {},
     "output_type": "display_data"
    },
    {
     "data": {
      "text/plain": [
       "'317WYWeyerhaeuser Company25.18B34.380.15%8.95B '"
      ]
     },
     "metadata": {},
     "output_type": "display_data"
    },
    {
     "data": {
      "text/plain": [
       "'318RBLXRoblox Corporation24.78B40.57-1.15%2.34B '"
      ]
     },
     "metadata": {},
     "output_type": "display_data"
    },
    {
     "data": {
      "text/plain": [
       "'319BAXBaxter International Inc.24.56B48.56-1.48%15.06B '"
      ]
     },
     "metadata": {},
     "output_type": "display_data"
    },
    {
     "data": {
      "text/plain": [
       "'320YUMCYum China Holdings, Inc.24.30B58.26-0.46%9.82B '"
      ]
     },
     "metadata": {},
     "output_type": "display_data"
    },
    {
     "data": {
      "text/plain": [
       "'321GIBCGI Inc.24.03B101.97-3.64%9.91B '"
      ]
     },
     "metadata": {},
     "output_type": "display_data"
    },
    {
     "data": {
      "text/plain": [
       "'322CHDChurch & Dwight Co., Inc.23.97B98.130.92%5.51B '"
      ]
     },
     "metadata": {},
     "output_type": "display_data"
    },
    {
     "data": {
      "text/plain": [
       "'323RCIRogers Communications Inc.23.90B44.800.07%11.31B '"
      ]
     },
     "metadata": {},
     "output_type": "display_data"
    },
    {
     "data": {
      "text/plain": [
       "'324DTEDTE Energy Company23.73B115.121.76%18.43B '"
      ]
     },
     "metadata": {},
     "output_type": "display_data"
    },
    {
     "data": {
      "text/plain": [
       "'325CAHCardinal Health, Inc.23.73B93.19-0.97%198.66B '"
      ]
     },
     "metadata": {},
     "output_type": "display_data"
    },
    {
     "data": {
      "text/plain": [
       "'326MKCMcCormick & Company, Incorporated23.66B88.130.65%6.52B '"
      ]
     },
     "metadata": {},
     "output_type": "display_data"
    },
    {
     "data": {
      "text/plain": [
       "'327UDRUDR, Inc.23.61B43.270.44%1.56B '"
      ]
     },
     "metadata": {},
     "output_type": "display_data"
    },
    {
     "data": {
      "text/plain": [
       "'328TEFTelefónica, S.A.23.58B4.100.74%42.55B '"
      ]
     },
     "metadata": {},
     "output_type": "display_data"
    },
    {
     "data": {
      "text/plain": [
       "'329CCLCarnival Corporation & plc23.35B17.881.30%17.49B '"
      ]
     },
     "metadata": {},
     "output_type": "display_data"
    },
    {
     "data": {
      "text/plain": [
       "'330KKellogg Company23.23B67.780.07%15.70B '"
      ]
     },
     "metadata": {},
     "output_type": "display_data"
    },
    {
     "data": {
      "text/plain": [
       "'331RJFRaymond James Financial, Inc.23.20B109.47-1.33%11.21B '"
      ]
     },
     "metadata": {},
     "output_type": "display_data"
    },
    {
     "data": {
      "text/plain": [
       "'332AEEAmeren Corporation23.19B88.291.56%8.14B '"
      ]
     },
     "metadata": {},
     "output_type": "display_data"
    },
    {
     "data": {
      "text/plain": [
       "'333MTArcelorMittal S.A.23.06B27.52-1.57%79.84B '"
      ]
     },
     "metadata": {},
     "output_type": "display_data"
    },
    {
     "data": {
      "text/plain": [
       "'334LYVLive Nation Entertainment, Inc.23.05B96.840.02%18.01B '"
      ]
     },
     "metadata": {},
     "output_type": "display_data"
    },
    {
     "data": {
      "text/plain": [
       "'335DBDeutsche Bank Aktiengesellschaft23.03B11.320.35%27.49B '"
      ]
     },
     "metadata": {},
     "output_type": "display_data"
    },
    {
     "data": {
      "text/plain": [
       "'336HIGThe Hartford Financial Services Group, Inc.23.01B74.16-0.64%22.88B '"
      ]
     },
     "metadata": {},
     "output_type": "display_data"
    },
    {
     "data": {
      "text/plain": [
       "'337FEFirstEnergy Corp.22.97B40.091.06%12.70B '"
      ]
     },
     "metadata": {},
     "output_type": "display_data"
    },
    {
     "data": {
      "text/plain": [
       "'338STESTERIS plc22.90B232.090.84%4.96B '"
      ]
     },
     "metadata": {},
     "output_type": "display_data"
    },
    {
     "data": {
      "text/plain": [
       "'339MTBM&T Bank Corporation22.87B137.86-0.49%9.40B '"
      ]
     },
     "metadata": {},
     "output_type": "display_data"
    },
    {
     "data": {
      "text/plain": [
       "'340ECEcopetrol S.A.22.78B11.080.54%32.91B '"
      ]
     },
     "metadata": {},
     "output_type": "display_data"
    },
    {
     "data": {
      "text/plain": [
       "'341STTState Street Corporation22.63B70.27-0.10%12.33B '"
      ]
     },
     "metadata": {},
     "output_type": "display_data"
    },
    {
     "data": {
      "text/plain": [
       "'342ELPCompanhia Paranaense de Energia - COPEL22.63B8.271.47%4.15B '"
      ]
     },
     "metadata": {},
     "output_type": "display_data"
    },
    {
     "data": {
      "text/plain": [
       "'343HPEHewlett Packard Enterprise Company22.29B17.260.35%29.60B '"
      ]
     },
     "metadata": {},
     "output_type": "display_data"
    },
    {
     "data": {
      "text/plain": [
       "'344LUVSouthwest Airlines Co.22.17B37.250.46%24.83B '"
      ]
     },
     "metadata": {},
     "output_type": "display_data"
    },
    {
     "data": {
      "text/plain": [
       "'345INVHInvitation Homes Inc.22.11B36.141.32%2.30B '"
      ]
     },
     "metadata": {},
     "output_type": "display_data"
    },
    {
     "data": {
      "text/plain": [
       "'346NETCloudflare, Inc.22.10B66.57-1.04%1.05B '"
      ]
     },
     "metadata": {},
     "output_type": "display_data"
    },
    {
     "data": {
      "text/plain": [
       "'347ETREntergy Corporation21.99B103.990.26%13.87B '"
      ]
     },
     "metadata": {},
     "output_type": "display_data"
    },
    {
     "data": {
      "text/plain": [
       "'348GPCGenuine Parts Company21.96B156.310.73%22.88B '"
      ]
     },
     "metadata": {},
     "output_type": "display_data"
    },
    {
     "data": {
      "text/plain": [
       "'349ROLRollins, Inc.21.94B44.520.34%2.76B '"
      ]
     },
     "metadata": {},
     "output_type": "display_data"
    },
    {
     "data": {
      "text/plain": [
       "'350HRLHormel Foods Corporation21.93B40.14-0.17%12.27B '"
      ]
     },
     "metadata": {},
     "output_type": "display_data"
    },
    {
     "data": {
      "text/plain": [
       "'351NOKNokia Oyj21.89B3.940.25%26.50B '"
      ]
     },
     "metadata": {},
     "output_type": "display_data"
    },
    {
     "data": {
      "text/plain": [
       "'352IXORIX Corporation21.74B92.98-0.29%20.14B '"
      ]
     },
     "metadata": {},
     "output_type": "display_data"
    },
    {
     "data": {
      "text/plain": [
       "'353IFFInternational Flavors & Fragrances Inc.21.43B84.000.68%12.24B '"
      ]
     },
     "metadata": {},
     "output_type": "display_data"
    },
    {
     "data": {
      "text/plain": [
       "'354AREAlexandria Real Estate Equities, Inc.21.32B123.231.63%2.67B '"
      ]
     },
     "metadata": {},
     "output_type": "display_data"
    },
    {
     "data": {
      "text/plain": [
       "'355TECKTeck Resources Limited21.32B42.03-0.43%12.59B '"
      ]
     },
     "metadata": {},
     "output_type": "display_data"
    },
    {
     "data": {
      "text/plain": [
       "'356HEIHEICO Corporation21.32B177.450.19%2.49B '"
      ]
     },
     "metadata": {},
     "output_type": "display_data"
    },
    {
     "data": {
      "text/plain": [
       "'357SQMSociedad Química y Minera de Chile S.A.21.27B74.48-4.62%10.71B '"
      ]
     },
     "metadata": {},
     "output_type": "display_data"
    },
    {
     "data": {
      "text/plain": [
       "'358DOVDover Corporation21.27B152.121.45%8.54B '"
      ]
     },
     "metadata": {},
     "output_type": "display_data"
    },
    {
     "data": {
      "text/plain": [
       "'359ZTOZTO Express (Cayman) Inc.21.27B26.09-0.19%5.31B '"
      ]
     },
     "metadata": {},
     "output_type": "display_data"
    },
    {
     "data": {
      "text/plain": [
       "'360HEI.AHEICO Corporation21.23B140.51-0.19%2.49B '"
      ]
     },
     "metadata": {},
     "output_type": "display_data"
    },
    {
     "data": {
      "text/plain": [
       "'361PHGKoninklijke Philips N.V.21.23B23.05-0.17%18.96B '"
      ]
     },
     "metadata": {},
     "output_type": "display_data"
    },
    {
     "data": {
      "text/plain": [
       "'362FICOFair Isaac Corporation21.11B844.50-0.90%1.42B '"
      ]
     },
     "metadata": {},
     "output_type": "display_data"
    },
    {
     "data": {
      "text/plain": [
       "'363FTSFortis Inc.21.06B43.47-0.37%8.35B '"
      ]
     },
     "metadata": {},
     "output_type": "display_data"
    },
    {
     "data": {
      "text/plain": [
       "'364CTRACoterra Energy Inc.20.98B26.71-0.63%9.15B '"
      ]
     },
     "metadata": {},
     "output_type": "display_data"
    },
    {
     "data": {
      "text/plain": [
       "'365AIUMeta Data Limited20.97B1.103.30%2.11M '"
      ]
     },
     "metadata": {},
     "output_type": "display_data"
    },
    {
     "data": {
      "text/plain": [
       "'366RKTRocket Companies, Inc.20.85B10.49-0.10%3.83B '"
      ]
     },
     "metadata": {},
     "output_type": "display_data"
    },
    {
     "data": {
      "text/plain": [
       "'367RTORentokil Initial plc20.73B41.131.51%4.47B '"
      ]
     },
     "metadata": {},
     "output_type": "display_data"
    },
    {
     "data": {
      "text/plain": [
       "'368HWMHowmet Aerospace Inc.20.63B49.91-0.95%5.94B '"
      ]
     },
     "metadata": {},
     "output_type": "display_data"
    },
    {
     "data": {
      "text/plain": [
       "'369DRIDarden Restaurants, Inc.20.60B170.37-1.05%10.49B '"
      ]
     },
     "metadata": {},
     "output_type": "display_data"
    },
    {
     "data": {
      "text/plain": [
       "'370PPLPPL Corporation20.56B27.891.83%8.54B '"
      ]
     },
     "metadata": {},
     "output_type": "display_data"
    },
    {
     "data": {
      "text/plain": [
       "'371CNHICNH Industrial N.V.20.47B15.35-1.29%24.24B '"
      ]
     },
     "metadata": {},
     "output_type": "display_data"
    },
    {
     "data": {
      "text/plain": [
       "'372SNAPSnap Inc.20.41B12.74-1.47%4.53B '"
      ]
     },
     "metadata": {},
     "output_type": "display_data"
    },
    {
     "data": {
      "text/plain": [
       "'373WABWestinghouse Air Brake Technologies Corporation20.31B112.890.11%8.63B '"
      ]
     },
     "metadata": {},
     "output_type": "display_data"
    },
    {
     "data": {
      "text/plain": [
       "'374NVRNVR, Inc.20.28B6,244.690.30%10.15B '"
      ]
     },
     "metadata": {},
     "output_type": "display_data"
    },
    {
     "data": {
      "text/plain": [
       "'375GRMNGarmin Ltd.20.27B105.97-0.61%4.84B '"
      ]
     },
     "metadata": {},
     "output_type": "display_data"
    },
    {
     "data": {
      "text/plain": [
       "'376PAYCPaycom Software, Inc.20.27B350.18-2.08%1.47B '"
      ]
     },
     "metadata": {},
     "output_type": "display_data"
    },
    {
     "data": {
      "text/plain": [
       "'377BROBrown & Brown, Inc.20.20B71.200.24%3.78B '"
      ]
     },
     "metadata": {},
     "output_type": "display_data"
    },
    {
     "data": {
      "text/plain": [
       "'378BEPBrookfield Renewable Partners L.P.20.09B30.021.42%4.91B '"
      ]
     },
     "metadata": {},
     "output_type": "display_data"
    },
    {
     "data": {
      "text/plain": [
       "'379WPMWheaton Precious Metals Corp.20.01B44.190.48%972.27M '"
      ]
     },
     "metadata": {},
     "output_type": "display_data"
    },
    {
     "data": {
      "text/plain": [
       "'380BRBroadridge Financial Solutions, Inc.19.99B169.830.38%5.94B '"
      ]
     },
     "metadata": {},
     "output_type": "display_data"
    },
    {
     "data": {
      "text/plain": [
       "'381VTRVentas, Inc.19.81B49.53-0.32%4.19B '"
      ]
     },
     "metadata": {},
     "output_type": "display_data"
    },
    {
     "data": {
      "text/plain": [
       "'382TSTenaris S.A.19.57B33.160.36%13.54B '"
      ]
     },
     "metadata": {},
     "output_type": "display_data"
    },
    {
     "data": {
      "text/plain": [
       "'383CNPCenterPoint Energy, Inc.19.51B30.911.78%9.34B '"
      ]
     },
     "metadata": {},
     "output_type": "display_data"
    },
    {
     "data": {
      "text/plain": [
       "'384LHLaboratory Corporation of America Holdings19.42B219.210.23%14.76B '"
      ]
     },
     "metadata": {},
     "output_type": "display_data"
    },
    {
     "data": {
      "text/plain": [
       "'385TDYTeledyne Technologies Incorporated19.40B412.451.11%5.52B '"
      ]
     },
     "metadata": {},
     "output_type": "display_data"
    },
    {
     "data": {
      "text/plain": [
       "'386UWMCUWM Holdings Corporation19.39B6.23-0.95%1.71B '"
      ]
     },
     "metadata": {},
     "output_type": "display_data"
    },
    {
     "data": {
      "text/plain": [
       "'387CLXThe Clorox Company19.24B155.780.76%7.17B '"
      ]
     },
     "metadata": {},
     "output_type": "display_data"
    },
    {
     "data": {
      "text/plain": [
       "'388COOThe Cooper Companies, Inc.19.19B387.61-1.08%3.43B '"
      ]
     },
     "metadata": {},
     "output_type": "display_data"
    },
    {
     "data": {
      "text/plain": [
       "'389MKLMarkel Corporation19.16B1,435.340.48%12.71B '"
      ]
     },
     "metadata": {},
     "output_type": "display_data"
    },
    {
     "data": {
      "text/plain": [
       "'390PINSPinterest, Inc.19.12B27.96-1.76%2.83B '"
      ]
     },
     "metadata": {},
     "output_type": "display_data"
    },
    {
     "data": {
      "text/plain": [
       "'391NIONIO Inc.18.75B10.582.52%7.28B '"
      ]
     },
     "metadata": {},
     "output_type": "display_data"
    },
    {
     "data": {
      "text/plain": [
       "'392TSNTyson Foods, Inc.18.64B52.660.30%53.63B '"
      ]
     },
     "metadata": {},
     "output_type": "display_data"
    },
    {
     "data": {
      "text/plain": [
       "'393FLTFLEETCOR Technologies, Inc.18.64B252.44-0.28%3.54B '"
      ]
     },
     "metadata": {},
     "output_type": "display_data"
    },
    {
     "data": {
      "text/plain": [
       "'394EBRCentrais Elétricas Brasileiras S.A. - Eletrobrás18.60B8.062.54%6.75B '"
      ]
     },
     "metadata": {},
     "output_type": "display_data"
    },
    {
     "data": {
      "text/plain": [
       "'395UMCUnited Microelectronics Corporation18.58B7.180.14%8.84B '"
      ]
     },
     "metadata": {},
     "output_type": "display_data"
    },
    {
     "data": {
      "text/plain": [
       "'396MOHMolina Healthcare, Inc.18.57B318.470.42%32.35B '"
      ]
     },
     "metadata": {},
     "output_type": "display_data"
    },
    {
     "data": {
      "text/plain": [
       "'397RFRegions Financial Corporation18.50B19.72-3.10%7.13B '"
      ]
     },
     "metadata": {},
     "output_type": "display_data"
    },
    {
     "data": {
      "text/plain": [
       "'398CMSCMS Energy Corporation18.34B62.891.90%8.51B '"
      ]
     },
     "metadata": {},
     "output_type": "display_data"
    },
    {
     "data": {
      "text/plain": [
       "'399BEKEKE Holdings Inc.18.32B14.82-1.27%9.96B '"
      ]
     },
     "metadata": {},
     "output_type": "display_data"
    },
    {
     "data": {
      "text/plain": [
       "'400TRGPTarga Resources Corp.18.23B80.661.34%20.49B '"
      ]
     },
     "metadata": {},
     "output_type": "display_data"
    },
    {
     "data": {
      "text/plain": [
       "'401BALLBall Corporation18.11B57.590.28%15.12B '"
      ]
     },
     "metadata": {},
     "output_type": "display_data"
    },
    {
     "data": {
      "text/plain": [
       "'402SUISun Communities, Inc.18.10B139.741.14%3.07B '"
      ]
     },
     "metadata": {},
     "output_type": "display_data"
    },
    {
     "data": {
      "text/plain": [
       "'403BBYBest Buy Co., Inc.18.06B82.76-1.03%45.12B '"
      ]
     },
     "metadata": {},
     "output_type": "display_data"
    },
    {
     "data": {
      "text/plain": [
       "'404MAAMid-America Apartment Communities, Inc.18.06B154.770.74%2.07B '"
      ]
     },
     "metadata": {},
     "output_type": "display_data"
    },
    {
     "data": {
      "text/plain": [
       "'405MGMMGM Resorts International18.05B49.62-0.26%14.15B '"
      ]
     },
     "metadata": {},
     "output_type": "display_data"
    },
    {
     "data": {
      "text/plain": [
       "'406IRMIron Mountain Incorporated18.05B61.89-0.16%5.17B '"
      ]
     },
     "metadata": {},
     "output_type": "display_data"
    },
    {
     "data": {
      "text/plain": [
       "'407HUBBHubbell Incorporated17.88B333.74-1.20%5.08B '"
      ]
     },
     "metadata": {},
     "output_type": "display_data"
    },
    {
     "data": {
      "text/plain": [
       "'408MGAMagna International Inc.17.83B62.330.91%38.87B '"
      ]
     },
     "metadata": {},
     "output_type": "display_data"
    },
    {
     "data": {
      "text/plain": [
       "'409ATOAtmos Energy Corporation17.81B123.280.90%4.56B '"
      ]
     },
     "metadata": {},
     "output_type": "display_data"
    },
    {
     "data": {
      "text/plain": [
       "'410BLDRBuilders FirstSource, Inc.17.76B138.73-0.29%20.93B '"
      ]
     },
     "metadata": {},
     "output_type": "display_data"
    },
    {
     "data": {
      "text/plain": [
       "'411KOFCoca-Cola FEMSA, SAB de CV17.51B83.331.02%597.02M '"
      ]
     },
     "metadata": {},
     "output_type": "display_data"
    },
    {
     "data": {
      "text/plain": [
       "'412PHMPulteGroup, Inc.17.43B78.090.74%16.62B '"
      ]
     },
     "metadata": {},
     "output_type": "display_data"
    },
    {
     "data": {
      "text/plain": [
       "'413PBAPembina Pipeline Corporation17.33B31.480.96%7.88B '"
      ]
     },
     "metadata": {},
     "output_type": "display_data"
    },
    {
     "data": {
      "text/plain": [
       "'414OWLBlue Owl Capital Inc.17.11B12.16-0.16%1.48B '"
      ]
     },
     "metadata": {},
     "output_type": "display_data"
    },
    {
     "data": {
      "text/plain": [
       "'415WATWaters Corporation17.04B288.723.20%2.97B '"
      ]
     },
     "metadata": {},
     "output_type": "display_data"
    },
    {
     "data": {
      "text/plain": [
       "'416TYLTyler Technologies, Inc.16.91B403.33-0.20%1.87B '"
      ]
     },
     "metadata": {},
     "output_type": "display_data"
    },
    {
     "data": {
      "text/plain": [
       "'417UUnity Software Inc.16.85B44.490.11%1.57B '"
      ]
     },
     "metadata": {},
     "output_type": "display_data"
    },
    {
     "data": {
      "text/plain": [
       "'418RSReliance Steel & Aluminum Co.16.82B286.050.08%16.50B '"
      ]
     },
     "metadata": {},
     "output_type": "display_data"
    },
    {
     "data": {
      "text/plain": [
       "'419ASXASE Technology Holding Co., Ltd.16.62B7.73-0.39%21.55B '"
      ]
     },
     "metadata": {},
     "output_type": "display_data"
    },
    {
     "data": {
      "text/plain": [
       "'420WLKWestlake Corporation16.58B129.881.18%15.09B '"
      ]
     },
     "metadata": {},
     "output_type": "display_data"
    },
    {
     "data": {
      "text/plain": [
       "'421OMCOmnicom Group Inc.16.56B83.81-4.94%14.36B '"
      ]
     },
     "metadata": {},
     "output_type": "display_data"
    },
    {
     "data": {
      "text/plain": [
       "'422FDSFactSet Research Systems Inc.16.55B431.940.54%2.05B '"
      ]
     },
     "metadata": {},
     "output_type": "display_data"
    },
    {
     "data": {
      "text/plain": [
       "'423LWLamb Weston Holdings, Inc.16.46B112.96-0.28%4.81B '"
      ]
     },
     "metadata": {},
     "output_type": "display_data"
    },
    {
     "data": {
      "text/plain": [
       "'424RVTYRevvity, Inc.16.42B130.873.27%3.36B '"
      ]
     },
     "metadata": {},
     "output_type": "display_data"
    },
    {
     "data": {
      "text/plain": [
       "'425BIPBrookfield Infrastructure Partners L.P.16.37B35.69-0.03%15.23B '"
      ]
     },
     "metadata": {},
     "output_type": "display_data"
    },
    {
     "data": {
      "text/plain": [
       "'426ESSEssex Property Trust, Inc.16.23B245.140.49%1.64B '"
      ]
     },
     "metadata": {},
     "output_type": "display_data"
    },
    {
     "data": {
      "text/plain": [
       "'427DGXQuest Diagnostics Incorporated16.17B144.370.54%9.60B '"
      ]
     },
     "metadata": {},
     "output_type": "display_data"
    },
    {
     "data": {
      "text/plain": [
       "'428IEXIDEX Corporation16.07B212.640.44%3.28B '"
      ]
     },
     "metadata": {},
     "output_type": "display_data"
    },
    {
     "data": {
      "text/plain": [
       "'429WRBW. R. Berkley Corporation16.06B61.57-0.11%11.62B '"
      ]
     },
     "metadata": {},
     "output_type": "display_data"
    },
    {
     "data": {
      "text/plain": [
       "'430JJacobs Engineering Group Inc.15.98B125.972.35%15.59B '"
      ]
     },
     "metadata": {},
     "output_type": "display_data"
    },
    {
     "data": {
      "text/plain": [
       "'431EGEverest Group, Ltd.15.93B366.960.52%12.45B '"
      ]
     },
     "metadata": {},
     "output_type": "display_data"
    },
    {
     "data": {
      "text/plain": [
       "'432CAGConagra Brands, Inc.15.88B33.290.57%12.28B '"
      ]
     },
     "metadata": {},
     "output_type": "display_data"
    },
    {
     "data": {
      "text/plain": [
       "'433FMSFresenius Medical Care AG & Co. KGaA15.87B27.05-1.85%19.55B '"
      ]
     },
     "metadata": {},
     "output_type": "display_data"
    },
    {
     "data": {
      "text/plain": [
       "'434BGBunge Limited15.79B104.84-0.71%66.68B '"
      ]
     },
     "metadata": {},
     "output_type": "display_data"
    },
    {
     "data": {
      "text/plain": [
       "'435SNASnap-on Incorporated15.74B275.551.03%4.99B '"
      ]
     },
     "metadata": {},
     "output_type": "display_data"
    },
    {
     "data": {
      "text/plain": [
       "'436MROMarathon Oil Corporation15.62B25.290.24%7.96B '"
      ]
     },
     "metadata": {},
     "output_type": "display_data"
    },
    {
     "data": {
      "text/plain": [
       "'437AERAerCap Holdings N.V.15.60B65.46-0.80%7.09B '"
      ]
     },
     "metadata": {},
     "output_type": "display_data"
    },
    {
     "data": {
      "text/plain": [
       "'438SJMThe J. M. Smucker Company15.53B152.11-0.24%8.53B '"
      ]
     },
     "metadata": {},
     "output_type": "display_data"
    },
    {
     "data": {
      "text/plain": [
       "'439AVTRAvantor, Inc.15.53B23.006.73%7.34B '"
      ]
     },
     "metadata": {},
     "output_type": "display_data"
    },
    {
     "data": {
      "text/plain": [
       "'440TRUTransUnion15.52B80.310.46%3.73B '"
      ]
     },
     "metadata": {},
     "output_type": "display_data"
    },
    {
     "data": {
      "text/plain": [
       "'441CFCF Industries Holdings, Inc.15.41B79.040.03%10.33B '"
      ]
     },
     "metadata": {},
     "output_type": "display_data"
    },
    {
     "data": {
      "text/plain": [
       "'442WPCW. P. Carey Inc.15.41B72.040.88%1.56B '"
      ]
     },
     "metadata": {},
     "output_type": "display_data"
    },
    {
     "data": {
      "text/plain": [
       "'443DTDynatrace, Inc.15.34B52.32-0.83%1.16B '"
      ]
     },
     "metadata": {},
     "output_type": "display_data"
    },
    {
     "data": {
      "text/plain": [
       "'444AMHAmerican Homes 4 Rent15.20B37.201.69%1.53B '"
      ]
     },
     "metadata": {},
     "output_type": "display_data"
    },
    {
     "data": {
      "text/plain": [
       "'445BAHBooz Allen Hamilton Holding Corporation15.17B115.83-0.36%9.26B '"
      ]
     },
     "metadata": {},
     "output_type": "display_data"
    },
    {
     "data": {
      "text/plain": [
       "'446CHWYChewy, Inc.15.16B35.320.43%10.46B '"
      ]
     },
     "metadata": {},
     "output_type": "display_data"
    },
    {
     "data": {
      "text/plain": [
       "'447AGRAvangrid, Inc.15.12B39.101.30%8.26B '"
      ]
     },
     "metadata": {},
     "output_type": "display_data"
    },
    {
     "data": {
      "text/plain": [
       "'448TAPMolson Coors Beverage Company15.12B69.95-0.16%10.83B '"
      ]
     },
     "metadata": {},
     "output_type": "display_data"
    },
    {
     "data": {
      "text/plain": [
       "'449AESThe AES Corporation15.05B22.493.02%13.00B '"
      ]
     },
     "metadata": {},
     "output_type": "display_data"
    },
    {
     "data": {
      "text/plain": [
       "'450CFGCitizens Financial Group, Inc.15.03B31.05-0.54%8.60B '"
      ]
     },
     "metadata": {},
     "output_type": "display_data"
    },
    {
     "data": {
      "text/plain": [
       "'451JBLJabil Inc.14.91B112.40-0.89%35.27B '"
      ]
     },
     "metadata": {},
     "output_type": "display_data"
    },
    {
     "data": {
      "text/plain": [
       "'452SWKStanley Black & Decker, Inc.14.87B97.13-0.47%16.43B '"
      ]
     },
     "metadata": {},
     "output_type": "display_data"
    },
    {
     "data": {
      "text/plain": [
       "'453KBKB Financial Group Inc.14.75B37.860.13%3.19B '"
      ]
     },
     "metadata": {},
     "output_type": "display_data"
    },
    {
     "data": {
      "text/plain": [
       "'454AMCRAmcor plc14.74B10.020.70%14.93B '"
      ]
     },
     "metadata": {},
     "output_type": "display_data"
    },
    {
     "data": {
      "text/plain": [
       "'455BENFranklin Resources, Inc.14.69B29.32-0.98%7.86B '"
      ]
     },
     "metadata": {},
     "output_type": "display_data"
    },
    {
     "data": {
      "text/plain": [
       "'456GGGGraco Inc.14.52B86.24-0.74%2.18B '"
      ]
     },
     "metadata": {},
     "output_type": "display_data"
    },
    {
     "data": {
      "text/plain": [
       "'457SYFSynchrony Financial14.50B34.67-0.63%7.70B '"
      ]
     },
     "metadata": {},
     "output_type": "display_data"
    },
    {
     "data": {
      "text/plain": [
       "'458VIVTelefônica Brasil S.A.14.49B8.671.76%9.08B '"
      ]
     },
     "metadata": {},
     "output_type": "display_data"
    },
    {
     "data": {
      "text/plain": [
       "'459AVYAvery Dennison Corporation14.47B178.370.75%8.76B '"
      ]
     },
     "metadata": {},
     "output_type": "display_data"
    },
    {
     "data": {
      "text/plain": [
       "'460EQTEQT Corporation14.43B39.90-2.25%10.74B '"
      ]
     },
     "metadata": {},
     "output_type": "display_data"
    },
    {
     "data": {
      "text/plain": [
       "'461IOTSamsara Inc.14.31B27.080.07%714.22M '"
      ]
     },
     "metadata": {},
     "output_type": "display_data"
    },
    {
     "data": {
      "text/plain": [
       "'462WSOWatsco, Inc.14.25B366.21-0.45%7.30B '"
      ]
     },
     "metadata": {},
     "output_type": "display_data"
    },
    {
     "data": {
      "text/plain": [
       "'463CCJCameco Corporation14.13B32.64-0.67%1.36B '"
      ]
     },
     "metadata": {},
     "output_type": "display_data"
    },
    {
     "data": {
      "text/plain": [
       "'464ELSEquity LifeStyle Properties, Inc.14.08B72.001.67%1.44B '"
      ]
     },
     "metadata": {},
     "output_type": "display_data"
    },
    {
     "data": {
      "text/plain": [
       "'465DECKDeckers Outdoor Corporation14.06B537.550.40%3.63B '"
      ]
     },
     "metadata": {},
     "output_type": "display_data"
    },
    {
     "data": {
      "text/plain": [
       "'466LLoews Corporation14.02B61.50-0.52%14.43B '"
      ]
     },
     "metadata": {},
     "output_type": "display_data"
    },
    {
     "data": {
      "text/plain": [
       "'467GFIGold Fields Limited13.95B15.610.13%4.29B '"
      ]
     },
     "metadata": {},
     "output_type": "display_data"
    },
    {
     "data": {
      "text/plain": [
       "'468BAMBrookfield Asset Management Inc.13.94B33.811.08%3.93B '"
      ]
     },
     "metadata": {},
     "output_type": "display_data"
    },
    {
     "data": {
      "text/plain": [
       "'469CPBCampbell Soup Company13.81B46.33-0.47%9.28B '"
      ]
     },
     "metadata": {},
     "output_type": "display_data"
    },
    {
     "data": {
      "text/plain": [
       "'470EPAMEPAM Systems, Inc.13.75B237.46-0.65%4.86B '"
      ]
     },
     "metadata": {},
     "output_type": "display_data"
    },
    {
     "data": {
      "text/plain": [
       "'471CSLCarlisle Companies Incorporated13.74B269.590.31%6.27B '"
      ]
     },
     "metadata": {},
     "output_type": "display_data"
    },
    {
     "data": {
      "text/plain": [
       "'472SHGShinhan Financial Group Co., Ltd.13.68B26.39-0.68%7.06B '"
      ]
     },
     "metadata": {},
     "output_type": "display_data"
    },
    {
     "data": {
      "text/plain": [
       "'473TXTTextron Inc.13.64B67.63-0.68%12.89B '"
      ]
     },
     "metadata": {},
     "output_type": "display_data"
    },
    {
     "data": {
      "text/plain": [
       "\"474DPZDomino's Pizza, Inc.13.62B385.44-0.62%4.55B \""
      ]
     },
     "metadata": {},
     "output_type": "display_data"
    },
    {
     "data": {
      "text/plain": [
       "'475SNNSmith & Nephew plc13.59B31.120.55%5.22B '"
      ]
     },
     "metadata": {},
     "output_type": "display_data"
    },
    {
     "data": {
      "text/plain": [
       "'476GFLGFL Environmental Inc.13.36B37.40-0.53%5.19B '"
      ]
     },
     "metadata": {},
     "output_type": "display_data"
    },
    {
     "data": {
      "text/plain": [
       "'477MASMasco Corporation13.33B59.24-0.80%8.46B '"
      ]
     },
     "metadata": {},
     "output_type": "display_data"
    },
    {
     "data": {
      "text/plain": [
       "'478BILLBill.com Holdings, Inc.13.29B124.88-3.40%962.71M '"
      ]
     },
     "metadata": {},
     "output_type": "display_data"
    },
    {
     "data": {
      "text/plain": [
       "'479MMPMagellan Midstream Partners, L.P.13.21B65.360.23%3.40B '"
      ]
     },
     "metadata": {},
     "output_type": "display_data"
    },
    {
     "data": {
      "text/plain": [
       "'480CECelanese Corporation13.19B121.26-0.56%9.99B '"
      ]
     },
     "metadata": {},
     "output_type": "display_data"
    },
    {
     "data": {
      "text/plain": [
       "'481KMXCarMax, Inc.13.18B83.28-1.98%28.06B '"
      ]
     },
     "metadata": {},
     "output_type": "display_data"
    },
    {
     "data": {
      "text/plain": [
       "'482XPEVXPeng Inc.13.08B14.56-3.19%3.41B '"
      ]
     },
     "metadata": {},
     "output_type": "display_data"
    },
    {
     "data": {
      "text/plain": [
       "'483KIMKimco Realty Corporation12.97B20.920.24%1.74B '"
      ]
     },
     "metadata": {},
     "output_type": "display_data"
    },
    {
     "data": {
      "text/plain": [
       "'484MOSThe Mosaic Company12.81B38.56-0.21%18.81B '"
      ]
     },
     "metadata": {},
     "output_type": "display_data"
    },
    {
     "data": {
      "text/plain": [
       "'485HHyatt Hotels Corporation12.80B121.080.47%6.29B '"
      ]
     },
     "metadata": {},
     "output_type": "display_data"
    },
    {
     "data": {
      "text/plain": [
       "'486IPGThe Interpublic Group of Companies, Inc.12.69B32.87-13.32%10.88B '"
      ]
     },
     "metadata": {},
     "output_type": "display_data"
    },
    {
     "data": {
      "text/plain": [
       "'487ACIAlbertsons Companies, Inc.12.67B22.01-0.32%77.65B '"
      ]
     },
     "metadata": {},
     "output_type": "display_data"
    },
    {
     "data": {
      "text/plain": [
       "'488LDOSLeidos Holdings, Inc.12.53B91.31-0.05%14.60B '"
      ]
     },
     "metadata": {},
     "output_type": "display_data"
    },
    {
     "data": {
      "text/plain": [
       "'489BAPCredicorp Ltd.12.47B156.73-0.05%3.90B '"
      ]
     },
     "metadata": {},
     "output_type": "display_data"
    },
    {
     "data": {
      "text/plain": [
       "'490CRBGCorebridge Financial, Inc.12.46B19.22-0.41%22.84B '"
      ]
     },
     "metadata": {},
     "output_type": "display_data"
    },
    {
     "data": {
      "text/plain": [
       "'491PKGPackaging Corporation of America12.35B137.351.01%8.32B '"
      ]
     },
     "metadata": {},
     "output_type": "display_data"
    },
    {
     "data": {
      "text/plain": [
       "'492ACMAECOM12.29B88.44-0.56%13.54B '"
      ]
     },
     "metadata": {},
     "output_type": "display_data"
    },
    {
     "data": {
      "text/plain": [
       "'493IHGInterContinental Hotels Group PLC12.29B73.111.15%3.89B '"
      ]
     },
     "metadata": {},
     "output_type": "display_data"
    },
    {
     "data": {
      "text/plain": [
       "'494JHXJames Hardie Industries plc12.23B27.44-0.07%3.78B '"
      ]
     },
     "metadata": {},
     "output_type": "display_data"
    },
    {
     "data": {
      "text/plain": [
       "'495NMRNomura Holdings, Inc.12.16B3.99-0.75%10.09B '"
      ]
     },
     "metadata": {},
     "output_type": "display_data"
    },
    {
     "data": {
      "text/plain": [
       "'496TMETencent Music Entertainment Group12.15B6.74-0.88%4.18B '"
      ]
     },
     "metadata": {},
     "output_type": "display_data"
    },
    {
     "data": {
      "text/plain": [
       "'497TFXTeleflex Incorporated12.15B258.770.38%2.86B '"
      ]
     },
     "metadata": {},
     "output_type": "display_data"
    },
    {
     "data": {
      "text/plain": [
       "'498YPFYPF SA12.14B15.461.38%69.67M '"
      ]
     },
     "metadata": {},
     "output_type": "display_data"
    },
    {
     "data": {
      "text/plain": [
       "'499CPTCamden Property Trust12.05B112.900.70%1.49B '"
      ]
     },
     "metadata": {},
     "output_type": "display_data"
    },
    {
     "data": {
      "text/plain": [
       "'500RPMRPM International Inc.11.98B92.95-0.02%7.22B '"
      ]
     },
     "metadata": {},
     "output_type": "display_data"
    }
   ],
   "source": [
    "url = 'https://stockanalysis.com/list/nyse-stocks/'\n",
    "r = requests.get(url)\n",
    "parser = BeautifulSoup(r.content, \"html.parser\")\n",
    "table = parser.find('tbody')\n",
    "rows = table.find_all('tr')\n",
    "for row in rows:\n",
    "    display(row.text)"
   ]
  }
 ],
 "metadata": {
  "kernelspec": {
   "display_name": "Python 3",
   "language": "python",
   "name": "python3"
  },
  "language_info": {
   "codemirror_mode": {
    "name": "ipython",
    "version": 3
   },
   "file_extension": ".py",
   "mimetype": "text/x-python",
   "name": "python",
   "nbconvert_exporter": "python",
   "pygments_lexer": "ipython3",
   "version": "3.8.0"
  },
  "orig_nbformat": 4
 },
 "nbformat": 4,
 "nbformat_minor": 2
}
